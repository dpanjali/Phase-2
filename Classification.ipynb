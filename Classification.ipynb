{
 "cells": [
  {
   "cell_type": "code",
   "execution_count": 10,
   "metadata": {},
   "outputs": [
    {
     "name": "stdout",
     "output_type": "stream",
     "text": [
      "Collecting azureml-sdk\n",
      "  Using cached azureml_sdk-1.52.0-py3-none-any.whl (2.7 kB)\n",
      "Collecting azureml-core~=1.52.0\n",
      "  Using cached azureml_core-1.52.0-py3-none-any.whl (3.3 MB)\n",
      "Collecting azureml-dataset-runtime[fuse]~=1.52.0\n",
      "  Using cached azureml_dataset_runtime-1.52.0-py3-none-any.whl (2.3 kB)\n",
      "Collecting azureml-train-core~=1.52.0\n",
      "  Using cached azureml_train_core-1.52.0-py3-none-any.whl (8.6 MB)\n",
      "Collecting azureml-sdk\n",
      "  Using cached azureml_sdk-1.51.0-py3-none-any.whl (2.7 kB)\n",
      "Collecting azureml-core~=1.51.0\n",
      "  Using cached azureml_core-1.51.0.post1-py3-none-any.whl (3.3 MB)\n",
      "Collecting azureml-dataset-runtime[fuse]~=1.51.0\n",
      "  Using cached azureml_dataset_runtime-1.51.0-py3-none-any.whl (2.3 kB)\n",
      "Collecting azureml-train-core~=1.51.0\n",
      "  Using cached azureml_train_core-1.51.0-py3-none-any.whl (8.6 MB)\n",
      "Collecting azureml-sdk\n",
      "  Using cached azureml_sdk-1.50.0-py3-none-any.whl (2.7 kB)\n",
      "Collecting azureml-core~=1.50.0\n",
      "  Using cached azureml_core-1.50.0-py3-none-any.whl (3.3 MB)\n",
      "Collecting azureml-dataset-runtime[fuse]~=1.50.0\n",
      "  Using cached azureml_dataset_runtime-1.50.0-py3-none-any.whl (2.3 kB)\n",
      "Collecting azureml-train-core~=1.50.0\n",
      "  Using cached azureml_train_core-1.50.0-py3-none-any.whl (8.6 MB)\n",
      "Collecting azureml-sdk\n",
      "  Using cached azureml_sdk-1.49.0-py3-none-any.whl (2.7 kB)\n",
      "Collecting azureml-core~=1.49.0\n",
      "  Using cached azureml_core-1.49.0-py3-none-any.whl (3.3 MB)\n",
      "Collecting azureml-dataset-runtime[fuse]~=1.49.0\n",
      "  Using cached azureml_dataset_runtime-1.49.0-py3-none-any.whl (2.3 kB)\n",
      "Collecting azureml-train-core~=1.49.0\n",
      "  Using cached azureml_train_core-1.49.0.post1-py3-none-any.whl (8.6 MB)\n",
      "Collecting azureml-sdk\n",
      "  Using cached azureml_sdk-1.25.0-py3-none-any.whl (4.4 kB)\n",
      "  Using cached azureml_sdk-1.24.0-py3-none-any.whl (4.4 kB)\n",
      "  Using cached azureml_sdk-1.23.0-py3-none-any.whl (4.4 kB)\n",
      "  Using cached azureml_sdk-1.22.0-py3-none-any.whl (4.4 kB)\n",
      "  Using cached azureml_sdk-1.21.0-py3-none-any.whl (4.4 kB)\n",
      "  Using cached azureml_sdk-1.20.0-py3-none-any.whl (4.4 kB)\n",
      "  Using cached azureml_sdk-1.19.0-py3-none-any.whl (4.4 kB)\n",
      "  Using cached azureml_sdk-1.18.0-py3-none-any.whl (4.4 kB)\n",
      "  Using cached azureml_sdk-1.17.0-py3-none-any.whl (4.4 kB)\n",
      "  Using cached azureml_sdk-1.16.0-py3-none-any.whl (4.4 kB)\n",
      "  Using cached azureml_sdk-1.15.0-py3-none-any.whl (4.4 kB)\n",
      "  Using cached azureml_sdk-1.14.0-py3-none-any.whl (4.4 kB)\n",
      "  Using cached azureml_sdk-1.13.0-py3-none-any.whl (4.4 kB)\n",
      "  Using cached azureml_sdk-1.12.0-py3-none-any.whl (4.4 kB)\n",
      "  Using cached azureml_sdk-1.11.0-py3-none-any.whl (4.4 kB)\n",
      "  Using cached azureml_sdk-1.10.0-py3-none-any.whl (4.4 kB)\n",
      "  Using cached azureml_sdk-1.9.0-py3-none-any.whl (4.4 kB)\n",
      "  Using cached azureml_sdk-1.8.0-py3-none-any.whl (4.4 kB)\n",
      "  Using cached azureml_sdk-1.7.0.post1-py3-none-any.whl (4.5 kB)\n",
      "  Using cached azureml_sdk-1.7.0-py3-none-any.whl (4.6 kB)\n",
      "  Using cached azureml_sdk-1.6.0-py3-none-any.whl (4.6 kB)\n",
      "  Using cached azureml_sdk-1.5.0-py3-none-any.whl (4.6 kB)\n",
      "  Using cached azureml_sdk-1.4.0-py3-none-any.whl (4.6 kB)\n",
      "  Using cached azureml_sdk-1.3.0-py3-none-any.whl (4.6 kB)\n",
      "  Using cached azureml_sdk-1.2.0-py3-none-any.whl (4.6 kB)\n",
      "  Using cached azureml_sdk-1.1.5.1-py3-none-any.whl (4.6 kB)\n",
      "Collecting azureml-core==1.1.5.*\n",
      "  Using cached azureml_core-1.1.5.7-py2.py3-none-any.whl (1.2 MB)\n",
      "Collecting azureml-train==1.1.5.*\n",
      "  Using cached azureml_train-1.1.5-py3-none-any.whl (3.2 kB)\n",
      "Collecting azureml-train-automl-client==1.1.5.*\n",
      "  Using cached azureml_train_automl_client-1.1.5.2-py3-none-any.whl (78 kB)\n",
      "Collecting azureml-pipeline==1.1.5.*\n",
      "  Using cached azureml_pipeline-1.1.5-py3-none-any.whl (3.7 kB)\n",
      "Collecting azureml-dataprep[fuse]<1.4.0a,>=1.3.5\n",
      "  Using cached azureml_dataprep-1.3.6-py3-none-any.whl (26.6 MB)\n",
      "Requirement already satisfied: pytz in /Library/Frameworks/Python.framework/Versions/3.11/lib/python3.11/site-packages (from azureml-core==1.1.5.*->azureml-sdk) (2023.3)\n",
      "Collecting backports.tempfile\n",
      "  Using cached backports.tempfile-1.0-py2.py3-none-any.whl (4.4 kB)\n",
      "Collecting pathspec\n",
      "  Using cached pathspec-0.11.2-py3-none-any.whl (29 kB)\n",
      "Requirement already satisfied: requests>=2.19.1 in /Library/Frameworks/Python.framework/Versions/3.11/lib/python3.11/site-packages (from azureml-core==1.1.5.*->azureml-sdk) (2.31.0)\n",
      "Collecting azure-mgmt-resource<9.0.0,>=1.2.1\n",
      "  Using cached azure_mgmt_resource-8.0.1-py2.py3-none-any.whl (758 kB)\n",
      "Collecting azure-mgmt-containerregistry>=2.0.0\n",
      "  Using cached azure_mgmt_containerregistry-10.1.0-py3-none-any.whl (1.7 MB)\n",
      "Collecting azure-mgmt-storage>=1.5.0\n",
      "  Using cached azure_mgmt_storage-21.0.0-py3-none-any.whl (2.8 MB)\n",
      "Collecting azure-mgmt-keyvault>=0.40.0\n",
      "  Using cached azure_mgmt_keyvault-10.2.3-py3-none-any.whl (811 kB)\n",
      "Collecting azure-mgmt-authorization>=0.40.0\n",
      "  Using cached azure_mgmt_authorization-4.0.0-py3-none-any.whl (1.1 MB)\n",
      "Collecting azure-graphrbac>=0.40.0\n",
      "  Using cached azure_graphrbac-0.61.1-py2.py3-none-any.whl (141 kB)\n",
      "Collecting azure-common>=1.1.12\n",
      "  Using cached azure_common-1.1.28-py2.py3-none-any.whl (14 kB)\n",
      "Collecting msrest>=0.5.1\n",
      "  Using cached msrest-0.7.1-py3-none-any.whl (85 kB)\n",
      "Collecting msrestazure>=0.4.33\n",
      "  Using cached msrestazure-0.6.4-py2.py3-none-any.whl (40 kB)\n",
      "Requirement already satisfied: urllib3>=1.23 in /Library/Frameworks/Python.framework/Versions/3.11/lib/python3.11/site-packages (from azureml-core==1.1.5.*->azureml-sdk) (2.0.4)\n",
      "Requirement already satisfied: six>=1.11.0 in /Users/deepanjalikumar/Library/Python/3.11/lib/python/site-packages (from azureml-core==1.1.5.*->azureml-sdk) (1.16.0)\n",
      "Collecting cryptography!=1.9,!=2.0.*,!=2.1.*,!=2.2.*\n",
      "  Using cached cryptography-41.0.3-cp37-abi3-macosx_10_12_universal2.whl (5.3 MB)\n",
      "Requirement already satisfied: python-dateutil>=2.7.3 in /Users/deepanjalikumar/Library/Python/3.11/lib/python/site-packages (from azureml-core==1.1.5.*->azureml-sdk) (2.8.2)\n",
      "Collecting ndg-httpsclient\n",
      "  Using cached ndg_httpsclient-0.5.1-py3-none-any.whl (34 kB)\n",
      "Collecting SecretStorage\n",
      "  Using cached SecretStorage-3.3.3-py3-none-any.whl (15 kB)\n",
      "Collecting ruamel.yaml<=0.15.89,>=0.15.35\n",
      "  Using cached ruamel.yaml-0.15.89.tar.gz (306 kB)\n",
      "  Preparing metadata (setup.py) ... \u001b[?25ldone\n",
      "\u001b[?25hCollecting jsonpickle\n",
      "  Using cached jsonpickle-3.0.1-py2.py3-none-any.whl (40 kB)\n",
      "Collecting contextlib2\n",
      "  Using cached contextlib2-21.6.0-py2.py3-none-any.whl (13 kB)\n",
      "Collecting docker\n",
      "  Using cached docker-6.1.3-py3-none-any.whl (148 kB)\n",
      "Collecting PyJWT\n",
      "  Using cached PyJWT-2.8.0-py3-none-any.whl (22 kB)\n",
      "Collecting adal>=1.2.0\n",
      "  Using cached adal-1.2.7-py2.py3-none-any.whl (55 kB)\n",
      "Collecting pyopenssl\n",
      "  Using cached pyOpenSSL-23.2.0-py3-none-any.whl (59 kB)\n",
      "Collecting jmespath\n",
      "  Using cached jmespath-1.0.1-py3-none-any.whl (20 kB)\n",
      "Collecting azureml-pipeline-core==1.1.5.*\n",
      "  Using cached azureml_pipeline_core-1.1.5-py2.py3-none-any.whl (271 kB)\n",
      "Collecting azureml-pipeline-steps==1.1.5.*\n",
      "  Using cached azureml_pipeline_steps-1.1.5-py3-none-any.whl (48 kB)\n",
      "Collecting azureml-train-core==1.1.5.*\n",
      "  Using cached azureml_train_core-1.1.5-py3-none-any.whl (8.6 MB)\n",
      "Collecting azureml-automl-core==1.1.5.*\n",
      "  Using cached azureml_automl_core-1.1.5.1-py3-none-any.whl (108 kB)\n",
      "Collecting azureml-telemetry==1.1.5.*\n",
      "  Using cached azureml_telemetry-1.1.5.3-py3-none-any.whl (29 kB)\n",
      "Collecting applicationinsights\n",
      "  Using cached applicationinsights-0.11.10-py2.py3-none-any.whl (55 kB)\n",
      "Collecting azureml-train-restclients-hyperdrive==1.1.5.*\n",
      "  Using cached azureml_train_restclients_hyperdrive-1.1.5-py3-none-any.whl (18 kB)\n",
      "Collecting flake8<=3.7.9,>=3.1.0\n",
      "  Using cached flake8-3.7.9-py2.py3-none-any.whl (69 kB)\n",
      "Collecting azureml-dataprep[fuse]<1.4.0a,>=1.3.5\n",
      "  Using cached azureml_dataprep-1.3.5-py3-none-any.whl (26.6 MB)\n",
      "INFO: pip is looking at multiple versions of azureml-train-restclients-hyperdrive to determine which version is compatible with other requirements. This could take a while.\n",
      "INFO: pip is looking at multiple versions of azureml-train-core to determine which version is compatible with other requirements. This could take a while.\n",
      "INFO: pip is looking at multiple versions of azureml-telemetry to determine which version is compatible with other requirements. This could take a while.\n",
      "Collecting azureml-telemetry==1.1.5.*\n",
      "  Using cached azureml_telemetry-1.1.5.2-py3-none-any.whl (29 kB)\n",
      "  Using cached azureml_telemetry-1.1.5.1-py3-none-any.whl (29 kB)\n",
      "  Using cached azureml_telemetry-1.1.5-py3-none-any.whl (29 kB)\n",
      "INFO: pip is looking at multiple versions of azureml-pipeline-steps to determine which version is compatible with other requirements. This could take a while.\n",
      "INFO: pip is looking at multiple versions of azureml-pipeline-core to determine which version is compatible with other requirements. This could take a while.\n",
      "INFO: pip is looking at multiple versions of azureml-automl-core to determine which version is compatible with other requirements. This could take a while.\n",
      "Collecting azureml-automl-core==1.1.5.*\n",
      "  Using cached azureml_automl_core-1.1.5-py3-none-any.whl (107 kB)\n",
      "INFO: pip is looking at multiple versions of azureml-train-automl-client to determine which version is compatible with other requirements. This could take a while.\n",
      "Collecting azureml-train-automl-client==1.1.5.*\n",
      "  Using cached azureml_train_automl_client-1.1.5.1-py3-none-any.whl (78 kB)\n",
      "INFO: pip is looking at multiple versions of azureml-train-restclients-hyperdrive to determine which version is compatible with other requirements. This could take a while.\n",
      "INFO: pip is looking at multiple versions of azureml-train-core to determine which version is compatible with other requirements. This could take a while.\n",
      "INFO: pip is looking at multiple versions of azureml-telemetry to determine which version is compatible with other requirements. This could take a while.\n",
      "  Using cached azureml_train_automl_client-1.1.5-py3-none-any.whl (78 kB)\n",
      "Collecting azureml-dataprep==1.3.2\n",
      "  Using cached azureml_dataprep-1.3.2-py3-none-any.whl (26.6 MB)\n",
      "INFO: pip is looking at multiple versions of azureml-train to determine which version is compatible with other requirements. This could take a while.\n",
      "INFO: pip is looking at multiple versions of azureml-pipeline to determine which version is compatible with other requirements. This could take a while.\n",
      "INFO: pip is looking at multiple versions of azureml-core to determine which version is compatible with other requirements. This could take a while.\n",
      "Collecting azureml-core==1.1.5.*\n",
      "  Using cached azureml_core-1.1.5.6-py2.py3-none-any.whl (1.2 MB)\n",
      "Collecting azure-mgmt-resource>=1.2.1\n",
      "  Using cached azure_mgmt_resource-23.0.1-py3-none-any.whl (2.5 MB)\n",
      "INFO: This is taking longer than usual. You might need to provide the dependency resolver with stricter constraints to reduce runtime. See https://pip.pypa.io/warnings/backtracking for guidance. If you want to abort this run, press Ctrl + C.\n",
      "INFO: This is taking longer than usual. You might need to provide the dependency resolver with stricter constraints to reduce runtime. See https://pip.pypa.io/warnings/backtracking for guidance. If you want to abort this run, press Ctrl + C.\n",
      "INFO: This is taking longer than usual. You might need to provide the dependency resolver with stricter constraints to reduce runtime. See https://pip.pypa.io/warnings/backtracking for guidance. If you want to abort this run, press Ctrl + C.\n",
      "Collecting azureml-core==1.1.5.*\n",
      "  Using cached azureml_core-1.1.5.5-py2.py3-none-any.whl (1.2 MB)\n",
      "INFO: pip is looking at multiple versions of azureml-automl-core to determine which version is compatible with other requirements. This could take a while.\n",
      "INFO: pip is looking at multiple versions of azureml-train-automl-client to determine which version is compatible with other requirements. This could take a while.\n",
      "  Using cached azureml_core-1.1.5.4-py2.py3-none-any.whl (1.2 MB)\n",
      "INFO: pip is looking at multiple versions of azureml-pipeline-steps to determine which version is compatible with other requirements. This could take a while.\n",
      "INFO: pip is looking at multiple versions of azureml-pipeline-core to determine which version is compatible with other requirements. This could take a while.\n",
      "  Using cached azureml_core-1.1.5.3-py2.py3-none-any.whl (1.2 MB)\n",
      "INFO: This is taking longer than usual. You might need to provide the dependency resolver with stricter constraints to reduce runtime. See https://pip.pypa.io/warnings/backtracking for guidance. If you want to abort this run, press Ctrl + C.\n",
      "INFO: This is taking longer than usual. You might need to provide the dependency resolver with stricter constraints to reduce runtime. See https://pip.pypa.io/warnings/backtracking for guidance. If you want to abort this run, press Ctrl + C.\n",
      "  Using cached azureml_core-1.1.5.2-py2.py3-none-any.whl (1.2 MB)\n",
      "  Using cached azureml_core-1.1.5.1-py2.py3-none-any.whl (1.2 MB)\n",
      "INFO: This is taking longer than usual. You might need to provide the dependency resolver with stricter constraints to reduce runtime. See https://pip.pypa.io/warnings/backtracking for guidance. If you want to abort this run, press Ctrl + C.\n",
      "INFO: This is taking longer than usual. You might need to provide the dependency resolver with stricter constraints to reduce runtime. See https://pip.pypa.io/warnings/backtracking for guidance. If you want to abort this run, press Ctrl + C.\n",
      "  Using cached azureml_core-1.1.5-py2.py3-none-any.whl (1.2 MB)\n",
      "INFO: pip is looking at multiple versions of azureml-train to determine which version is compatible with other requirements. This could take a while.\n",
      "INFO: pip is looking at multiple versions of azureml-pipeline to determine which version is compatible with other requirements. This could take a while.\n",
      "INFO: pip is looking at multiple versions of azureml-core to determine which version is compatible with other requirements. This could take a while.\n",
      "INFO: pip is looking at multiple versions of azureml-sdk to determine which version is compatible with other requirements. This could take a while.\n",
      "Collecting azureml-sdk\n",
      "  Using cached azureml_sdk-1.1.5-py3-none-any.whl (4.5 kB)\n",
      "  Using cached azureml_sdk-1.0.85-py3-none-any.whl (4.6 kB)\n",
      "Collecting azureml-core==1.0.85.*\n",
      "  Using cached azureml_core-1.0.85.6-py2.py3-none-any.whl (1.2 MB)\n",
      "Collecting azureml-train==1.0.85.*\n",
      "  Using cached azureml_train-1.0.85-py3-none-any.whl (3.2 kB)\n",
      "Collecting azureml-train-automl-client==1.0.85.*\n",
      "  Using cached azureml_train_automl_client-1.0.85.4-py3-none-any.whl (69 kB)\n",
      "Collecting azureml-pipeline==1.0.85.*\n",
      "  Using cached azureml_pipeline-1.0.85-py3-none-any.whl (3.7 kB)\n",
      "Collecting azureml-dataprep[fuse]<1.2.0a,>=1.1.37a\n",
      "  Using cached azureml_dataprep-1.1.38-py3-none-any.whl (26.9 MB)\n",
      "Collecting azureml-pipeline-core==1.0.85.*\n",
      "  Using cached azureml_pipeline_core-1.0.85.1-py2.py3-none-any.whl (269 kB)\n",
      "Collecting azureml-pipeline-steps==1.0.85.*\n",
      "  Using cached azureml_pipeline_steps-1.0.85-py3-none-any.whl (41 kB)\n",
      "Collecting azureml-train-core==1.0.85.*\n",
      "  Using cached azureml_train_core-1.0.85-py3-none-any.whl (8.6 MB)\n",
      "Collecting azureml-automl-core==1.0.85.*\n",
      "  Using cached azureml_automl_core-1.0.85.5-py3-none-any.whl (102 kB)\n",
      "Collecting azureml-telemetry==1.0.85.*\n",
      "  Using cached azureml_telemetry-1.0.85.2-py3-none-any.whl (29 kB)\n",
      "Collecting azureml-train-restclients-hyperdrive==1.0.85.*\n",
      "  Using cached azureml_train_restclients_hyperdrive-1.0.85-py3-none-any.whl (18 kB)\n",
      "Collecting azureml-dataprep[fuse]<1.2.0a,>=1.1.37a\n",
      "  Using cached azureml_dataprep-1.1.37-py3-none-any.whl (26.9 MB)\n",
      "Collecting azureml-telemetry==1.0.85.*\n",
      "  Using cached azureml_telemetry-1.0.85.1-py3-none-any.whl (29 kB)\n",
      "  Using cached azureml_telemetry-1.0.85-py3-none-any.whl (29 kB)\n",
      "Collecting azureml-pipeline-core==1.0.85.*\n",
      "  Using cached azureml_pipeline_core-1.0.85-py2.py3-none-any.whl (269 kB)\n",
      "Collecting azureml-automl-core==1.0.85.*\n",
      "  Using cached azureml_automl_core-1.0.85.4-py3-none-any.whl (102 kB)\n",
      "  Using cached azureml_automl_core-1.0.85.2-py3-none-any.whl (102 kB)\n",
      "  Using cached azureml_automl_core-1.0.85.1-py3-none-any.whl (102 kB)\n",
      "  Using cached azureml_automl_core-1.0.85-py3-none-any.whl (102 kB)\n",
      "Collecting azureml-train-automl-client==1.0.85.*\n",
      "  Using cached azureml_train_automl_client-1.0.85.3-py3-none-any.whl (69 kB)\n",
      "  Using cached azureml_train_automl_client-1.0.85.2-py3-none-any.whl (69 kB)\n",
      "  Using cached azureml_train_automl_client-1.0.85.1-py3-none-any.whl (69 kB)\n",
      "  Using cached azureml_train_automl_client-1.0.85-py3-none-any.whl (69 kB)\n",
      "Collecting azureml-core==1.0.85.*\n",
      "  Using cached azureml_core-1.0.85.5-py2.py3-none-any.whl (1.2 MB)\n",
      "  Using cached azureml_core-1.0.85.4-py2.py3-none-any.whl (1.2 MB)\n",
      "  Using cached azureml_core-1.0.85.3-py2.py3-none-any.whl (1.2 MB)\n",
      "INFO: This is taking longer than usual. You might need to provide the dependency resolver with stricter constraints to reduce runtime. See https://pip.pypa.io/warnings/backtracking for guidance. If you want to abort this run, press Ctrl + C.\n",
      "  Using cached azureml_core-1.0.85.2-py2.py3-none-any.whl (1.2 MB)\n",
      "INFO: This is taking longer than usual. You might need to provide the dependency resolver with stricter constraints to reduce runtime. See https://pip.pypa.io/warnings/backtracking for guidance. If you want to abort this run, press Ctrl + C.\n",
      "INFO: This is taking longer than usual. You might need to provide the dependency resolver with stricter constraints to reduce runtime. See https://pip.pypa.io/warnings/backtracking for guidance. If you want to abort this run, press Ctrl + C.\n",
      "  Using cached azureml_core-1.0.85.1-py2.py3-none-any.whl (1.2 MB)\n",
      "  Using cached azureml_core-1.0.85-py2.py3-none-any.whl (1.2 MB)\n",
      "Collecting azureml-sdk\n",
      "  Using cached azureml_sdk-1.0.83-py3-none-any.whl (4.6 kB)\n",
      "Collecting azureml-core==1.0.83.*\n",
      "  Using cached azureml_core-1.0.83-py2.py3-none-any.whl (1.2 MB)\n",
      "Collecting azureml-train==1.0.83.*\n",
      "  Using cached azureml_train-1.0.83-py3-none-any.whl (3.2 kB)\n",
      "Collecting azureml-train-automl-client==1.0.83.*\n",
      "  Using cached azureml_train_automl_client-1.0.83-py3-none-any.whl (69 kB)\n",
      "Collecting azureml-pipeline==1.0.83.*\n",
      "  Using cached azureml_pipeline-1.0.83-py3-none-any.whl (3.7 kB)\n",
      "Collecting azureml-pipeline-core==1.0.83.*\n",
      "  Using cached azureml_pipeline_core-1.0.83-py2.py3-none-any.whl (269 kB)\n",
      "Collecting azureml-pipeline-steps==1.0.83.*\n",
      "  Using cached azureml_pipeline_steps-1.0.83-py3-none-any.whl (41 kB)\n",
      "Collecting azureml-train-core==1.0.83.*\n",
      "  Using cached azureml_train_core-1.0.83-py3-none-any.whl (8.6 MB)\n",
      "Collecting azureml-automl-core==1.0.83.*\n",
      "  Using cached azureml_automl_core-1.0.83.1-py3-none-any.whl (101 kB)\n",
      "Collecting azureml-telemetry==1.0.83.*\n",
      "  Using cached azureml_telemetry-1.0.83-py3-none-any.whl (29 kB)\n",
      "Collecting azureml-train-restclients-hyperdrive==1.0.83.*\n",
      "  Using cached azureml_train_restclients_hyperdrive-1.0.83-py3-none-any.whl (18 kB)\n",
      "Collecting azureml-dataprep[fuse]<1.2.0a,>=1.1.35a\n",
      "  Using cached azureml_dataprep-1.1.36-py3-none-any.whl (26.9 MB)\n",
      "  Using cached azureml_dataprep-1.1.35-py3-none-any.whl (26.9 MB)\n",
      "Collecting azureml-automl-core==1.0.83.*\n",
      "  Using cached azureml_automl_core-1.0.83-py3-none-any.whl (101 kB)\n",
      "Collecting azureml-sdk\n",
      "  Using cached azureml_sdk-1.0.81-py3-none-any.whl (4.6 kB)\n",
      "Collecting azureml-core==1.0.81.*\n",
      "  Using cached azureml_core-1.0.81.1-py2.py3-none-any.whl (1.2 MB)\n",
      "Collecting azureml-train==1.0.81.*\n",
      "  Using cached azureml_train-1.0.81-py3-none-any.whl (3.2 kB)\n",
      "Collecting azureml-pipeline==1.0.81.*\n",
      "  Using cached azureml_pipeline-1.0.81-py3-none-any.whl (3.7 kB)\n",
      "Collecting azureml-pipeline-core==1.0.81.*\n",
      "  Using cached azureml_pipeline_core-1.0.81-py2.py3-none-any.whl (268 kB)\n",
      "Collecting azureml-pipeline-steps==1.0.81.*\n",
      "  Using cached azureml_pipeline_steps-1.0.81-py3-none-any.whl (41 kB)\n",
      "Collecting azureml-train-core==1.0.81.*\n",
      "  Using cached azureml_train_core-1.0.81-py3-none-any.whl (8.6 MB)\n",
      "Collecting azureml-train-restclients-hyperdrive==1.0.81.*\n",
      "  Using cached azureml_train_restclients_hyperdrive-1.0.81-py3-none-any.whl (18 kB)\n",
      "Collecting azureml-telemetry==1.0.81.*\n",
      "  Using cached azureml_telemetry-1.0.81.1-py3-none-any.whl (28 kB)\n",
      "Collecting azureml-dataprep[fuse]<1.2.0a,>=1.1.33a\n",
      "  Using cached azureml_dataprep-1.1.34-py3-none-any.whl (26.9 MB)\n",
      "  Using cached azureml_dataprep-1.1.33-py3-none-any.whl (26.9 MB)\n",
      "Collecting azureml-telemetry==1.0.81.*\n",
      "  Using cached azureml_telemetry-1.0.81-py3-none-any.whl (28 kB)\n",
      "Collecting azureml-core==1.0.81.*\n",
      "  Using cached azureml_core-1.0.81-py2.py3-none-any.whl (1.2 MB)\n",
      "Collecting azureml-sdk\n",
      "  Using cached azureml_sdk-1.0.79-py3-none-any.whl (4.6 kB)\n",
      "Collecting azureml-core==1.0.79.*\n",
      "  Using cached azureml_core-1.0.79-py2.py3-none-any.whl (1.2 MB)\n",
      "Collecting azureml-train==1.0.79.*\n",
      "  Using cached azureml_train-1.0.79-py3-none-any.whl (3.2 kB)\n",
      "Collecting azureml-pipeline==1.0.79.*\n",
      "  Using cached azureml_pipeline-1.0.79-py3-none-any.whl (3.7 kB)\n",
      "Collecting azureml-pipeline-core==1.0.79.*\n",
      "  Using cached azureml_pipeline_core-1.0.79-py2.py3-none-any.whl (265 kB)\n",
      "Collecting azureml-pipeline-steps==1.0.79.*\n",
      "  Using cached azureml_pipeline_steps-1.0.79-py3-none-any.whl (41 kB)\n",
      "Collecting azureml-train-core==1.0.79.*\n",
      "  Using cached azureml_train_core-1.0.79-py3-none-any.whl (8.6 MB)\n",
      "Collecting azureml-train-restclients-hyperdrive==1.0.79.*\n",
      "  Using cached azureml_train_restclients_hyperdrive-1.0.79-py3-none-any.whl (18 kB)\n",
      "Collecting azureml-telemetry==1.0.79.*\n",
      "  Using cached azureml_telemetry-1.0.79-py3-none-any.whl (28 kB)\n",
      "Collecting azureml-dataprep[fuse]<1.2.0a,>=1.1.29a\n",
      "  Using cached azureml_dataprep-1.1.32-py3-none-any.whl (26.9 MB)\n",
      "  Using cached azureml_dataprep-1.1.31-py3-none-any.whl (26.9 MB)\n",
      "  Using cached azureml_dataprep-1.1.30-py3-none-any.whl (26.9 MB)\n",
      "  Using cached azureml_dataprep-1.1.29-py3-none-any.whl (26.9 MB)\n",
      "Collecting azureml-sdk\n",
      "  Using cached azureml_sdk-1.0.76-py3-none-any.whl (4.6 kB)\n",
      "Collecting azureml-core==1.0.76.*\n",
      "  Using cached azureml_core-1.0.76.1-py2.py3-none-any.whl (1.2 MB)\n",
      "Collecting azureml-train==1.0.76.*\n",
      "  Using cached azureml_train-1.0.76-py3-none-any.whl (3.2 kB)\n",
      "Collecting azureml-pipeline==1.0.76.*\n",
      "  Using cached azureml_pipeline-1.0.76-py3-none-any.whl (3.7 kB)\n",
      "Collecting azureml-pipeline-core==1.0.76.*\n",
      "  Using cached azureml_pipeline_core-1.0.76-py2.py3-none-any.whl (265 kB)\n",
      "Collecting azureml-pipeline-steps==1.0.76.*\n",
      "  Using cached azureml_pipeline_steps-1.0.76-py3-none-any.whl (41 kB)\n",
      "Collecting azureml-train-core==1.0.76.*\n",
      "  Using cached azureml_train_core-1.0.76-py3-none-any.whl (8.6 MB)\n",
      "Collecting azureml-train-restclients-hyperdrive==1.0.76.*\n",
      "  Using cached azureml_train_restclients_hyperdrive-1.0.76-py3-none-any.whl (18 kB)\n",
      "Collecting azureml-telemetry==1.0.76.*\n",
      "  Using cached azureml_telemetry-1.0.76-py3-none-any.whl (32 kB)\n",
      "Collecting azureml-core==1.0.76.*\n",
      "  Using cached azureml_core-1.0.76-py2.py3-none-any.whl (1.2 MB)\n",
      "Collecting azureml-sdk\n",
      "  Using cached azureml_sdk-1.0.74-py3-none-any.whl (4.6 kB)\n",
      "Collecting azureml-core==1.0.74.*\n",
      "  Using cached azureml_core-1.0.74-py2.py3-none-any.whl (1.2 MB)\n",
      "Collecting azureml-train==1.0.74.*\n",
      "  Using cached azureml_train-1.0.74-py3-none-any.whl (3.2 kB)\n",
      "Collecting azureml-pipeline==1.0.74.*\n",
      "  Using cached azureml_pipeline-1.0.74-py3-none-any.whl (3.7 kB)\n",
      "Collecting azureml-pipeline-core==1.0.74.*\n",
      "  Using cached azureml_pipeline_core-1.0.74-py2.py3-none-any.whl (264 kB)\n",
      "Collecting azureml-pipeline-steps==1.0.74.*\n",
      "  Using cached azureml_pipeline_steps-1.0.74-py3-none-any.whl (40 kB)\n",
      "Collecting azureml-train-core==1.0.74.*\n",
      "  Using cached azureml_train_core-1.0.74-py3-none-any.whl (7.7 MB)\n",
      "Collecting azureml-train-restclients-hyperdrive==1.0.74.*\n",
      "  Using cached azureml_train_restclients_hyperdrive-1.0.74-py3-none-any.whl (18 kB)\n",
      "Collecting azureml-telemetry==1.0.74.*\n",
      "  Using cached azureml_telemetry-1.0.74-py3-none-any.whl (31 kB)\n",
      "INFO: pip is looking at multiple versions of azureml-sdk to determine which version is compatible with other requirements. This could take a while.\n",
      "Collecting azureml-sdk\n",
      "  Using cached azureml_sdk-1.0.72-py3-none-any.whl (4.6 kB)\n",
      "Collecting azureml-core==1.0.72.*\n",
      "  Using cached azureml_core-1.0.72-py2.py3-none-any.whl (1.1 MB)\n",
      "Collecting azureml-train==1.0.72.*\n",
      "  Using cached azureml_train-1.0.72-py3-none-any.whl (3.2 kB)\n",
      "Collecting azureml-pipeline==1.0.72.*\n",
      "  Using cached azureml_pipeline-1.0.72-py3-none-any.whl (3.7 kB)\n",
      "Collecting azureml-pipeline-core==1.0.72.*\n",
      "  Using cached azureml_pipeline_core-1.0.72-py2.py3-none-any.whl (263 kB)\n",
      "Collecting azureml-pipeline-steps==1.0.72.*\n",
      "  Using cached azureml_pipeline_steps-1.0.72-py3-none-any.whl (40 kB)\n",
      "Collecting azureml-train-core==1.0.72.*\n",
      "  Using cached azureml_train_core-1.0.72-py3-none-any.whl (81 kB)\n",
      "Collecting azureml-train-restclients-hyperdrive==1.0.72.*\n",
      "  Using cached azureml_train_restclients_hyperdrive-1.0.72-py3-none-any.whl (18 kB)\n",
      "Collecting azureml-telemetry==1.0.72.*\n",
      "  Using cached azureml_telemetry-1.0.72-py3-none-any.whl (31 kB)\n",
      "Collecting azureml-dataprep[fuse]<1.2.0a,>=1.1.24a\n",
      "  Using cached azureml_dataprep-1.1.28-py3-none-any.whl (26.9 MB)\n",
      "  Using cached azureml_dataprep-1.1.26-py3-none-any.whl (26.9 MB)\n",
      "  Using cached azureml_dataprep-1.1.25-py3-none-any.whl (26.9 MB)\n",
      "  Using cached azureml_dataprep-1.1.24-py3-none-any.whl (26.8 MB)\n",
      "Collecting azureml-sdk\n",
      "  Using cached azureml_sdk-1.0.69-py3-none-any.whl (4.6 kB)\n",
      "Collecting azureml-core==1.0.69.*\n",
      "  Using cached azureml_core-1.0.69-py2.py3-none-any.whl (1.1 MB)\n",
      "Collecting azureml-train==1.0.69.*\n",
      "  Using cached azureml_train-1.0.69-py3-none-any.whl (3.2 kB)\n",
      "Collecting azureml-pipeline==1.0.69.*\n",
      "  Using cached azureml_pipeline-1.0.69-py3-none-any.whl (3.7 kB)\n",
      "Collecting azureml-pipeline-core==1.0.69.*\n",
      "  Using cached azureml_pipeline_core-1.0.69-py2.py3-none-any.whl (260 kB)\n",
      "Collecting azureml-pipeline-steps==1.0.69.*\n",
      "  Using cached azureml_pipeline_steps-1.0.69-py3-none-any.whl (40 kB)\n",
      "Collecting azureml-train-core==1.0.69.*\n",
      "  Using cached azureml_train_core-1.0.69-py3-none-any.whl (77 kB)\n",
      "Collecting azureml-train-restclients-hyperdrive==1.0.69.*\n",
      "  Using cached azureml_train_restclients_hyperdrive-1.0.69-py3-none-any.whl (17 kB)\n",
      "Collecting azureml-telemetry==1.0.69.*\n",
      "  Using cached azureml_telemetry-1.0.69-py3-none-any.whl (30 kB)\n",
      "Collecting azureml-dataprep[fuse]<1.2.0a,>=1.1.20a\n",
      "  Using cached azureml_dataprep-1.1.23-py3-none-any.whl (26.8 MB)\n",
      "  Using cached azureml_dataprep-1.1.22-py3-none-any.whl (26.8 MB)\n",
      "  Using cached azureml_dataprep-1.1.21-py3-none-any.whl (26.8 MB)\n",
      "  Using cached azureml_dataprep-1.1.20-py3-none-any.whl (26.8 MB)\n",
      "Collecting azureml-sdk\n",
      "  Using cached azureml_sdk-1.0.65-py3-none-any.whl (4.5 kB)\n",
      "Collecting azureml-core==1.0.65.*\n",
      "  Using cached azureml_core-1.0.65.1-py2.py3-none-any.whl (1.1 MB)\n",
      "Collecting azureml-train==1.0.65.*\n",
      "  Using cached azureml_train-1.0.65-py3-none-any.whl (3.2 kB)\n",
      "Collecting azureml-pipeline==1.0.65.*\n",
      "  Using cached azureml_pipeline-1.0.65-py3-none-any.whl (3.7 kB)\n",
      "Collecting azureml-pipeline-core==1.0.65.*\n",
      "  Using cached azureml_pipeline_core-1.0.65-py2.py3-none-any.whl (252 kB)\n",
      "Collecting azureml-pipeline-steps==1.0.65.*\n",
      "  Using cached azureml_pipeline_steps-1.0.65-py3-none-any.whl (39 kB)\n",
      "Collecting azureml-train-core==1.0.65.*\n",
      "  Using cached azureml_train_core-1.0.65-py3-none-any.whl (76 kB)\n",
      "Collecting azureml-train-restclients-hyperdrive==1.0.65.*\n",
      "  Using cached azureml_train_restclients_hyperdrive-1.0.65-py3-none-any.whl (17 kB)\n",
      "Collecting azureml-telemetry==1.0.65.*\n",
      "  Using cached azureml_telemetry-1.0.65-py3-none-any.whl (30 kB)\n",
      "Collecting azureml-dataprep[fuse]<1.2.0a,>=1.1.19a\n",
      "  Using cached azureml_dataprep-1.1.19-py3-none-any.whl (26.8 MB)\n",
      "Collecting azureml-core==1.0.65.*\n",
      "  Using cached azureml_core-1.0.65-py2.py3-none-any.whl (1.1 MB)\n",
      "Collecting azureml-sdk\n",
      "  Using cached azureml_sdk-1.0.62-py3-none-any.whl (4.5 kB)\n",
      "Collecting azureml-core==1.0.62.*\n",
      "  Using cached azureml_core-1.0.62.1-py2.py3-none-any.whl (1.1 MB)\n",
      "Collecting azureml-train==1.0.62.*\n",
      "  Using cached azureml_train-1.0.62-py3-none-any.whl (3.2 kB)\n",
      "Collecting azureml-pipeline==1.0.62.*\n",
      "  Using cached azureml_pipeline-1.0.62-py3-none-any.whl (3.7 kB)\n",
      "Collecting azureml-pipeline-core==1.0.62.*\n",
      "  Using cached azureml_pipeline_core-1.0.62-py2.py3-none-any.whl (251 kB)\n",
      "Collecting azureml-pipeline-steps==1.0.62.*\n",
      "  Using cached azureml_pipeline_steps-1.0.62-py3-none-any.whl (29 kB)\n",
      "Collecting azureml-train-core==1.0.62.*\n",
      "  Using cached azureml_train_core-1.0.62-py3-none-any.whl (76 kB)\n",
      "Collecting azureml-train-restclients-hyperdrive==1.0.62.*\n",
      "  Using cached azureml_train_restclients_hyperdrive-1.0.62-py3-none-any.whl (17 kB)\n",
      "Collecting azureml-telemetry==1.0.62.*\n",
      "  Using cached azureml_telemetry-1.0.62-py3-none-any.whl (27 kB)\n",
      "Collecting azureml-dataprep[fuse]<1.2.0a,>=1.1.15a\n",
      "  Using cached azureml_dataprep-1.1.18-py3-none-any.whl (26.7 MB)\n",
      "  Using cached azureml_dataprep-1.1.17-py3-none-any.whl (27.0 MB)\n",
      "  Using cached azureml_dataprep-1.1.16-py3-none-any.whl (27.0 MB)\n",
      "  Using cached azureml_dataprep-1.1.15-py3-none-any.whl (27.0 MB)\n",
      "Collecting azureml-core==1.0.62.*\n",
      "  Using cached azureml_core-1.0.62-py2.py3-none-any.whl (1.1 MB)\n",
      "Collecting azureml-sdk\n",
      "  Using cached azureml_sdk-1.0.60-py3-none-any.whl (4.5 kB)\n",
      "Collecting azureml-core==1.0.60.*\n",
      "  Using cached azureml_core-1.0.60-py2.py3-none-any.whl (1.1 MB)\n",
      "Collecting azureml-train==1.0.60.*\n",
      "  Using cached azureml_train-1.0.60-py3-none-any.whl (3.2 kB)\n",
      "Collecting azureml-pipeline==1.0.60.*\n",
      "  Using cached azureml_pipeline-1.0.60-py3-none-any.whl (3.7 kB)\n",
      "Collecting azureml-pipeline-core==1.0.60.*\n",
      "  Using cached azureml_pipeline_core-1.0.60-py2.py3-none-any.whl (247 kB)\n",
      "Collecting azureml-pipeline-steps==1.0.60.*\n",
      "  Using cached azureml_pipeline_steps-1.0.60-py3-none-any.whl (29 kB)\n",
      "Collecting azureml-train-core==1.0.60.*\n",
      "  Using cached azureml_train_core-1.0.60-py3-none-any.whl (77 kB)\n",
      "Collecting azureml-train-restclients-hyperdrive==1.0.60.*\n",
      "  Using cached azureml_train_restclients_hyperdrive-1.0.60-py3-none-any.whl (17 kB)\n",
      "Collecting azureml-telemetry==1.0.60.*\n",
      "  Using cached azureml_telemetry-1.0.60-py3-none-any.whl (27 kB)\n",
      "Collecting azureml-dataprep[fuse]<1.2.0a,>=1.1.13a\n",
      "  Using cached azureml_dataprep-1.1.14-py3-none-any.whl (26.0 MB)\n",
      "  Using cached azureml_dataprep-1.1.13-py3-none-any.whl (26.0 MB)\n",
      "INFO: This is taking longer than usual. You might need to provide the dependency resolver with stricter constraints to reduce runtime. See https://pip.pypa.io/warnings/backtracking for guidance. If you want to abort this run, press Ctrl + C.\n",
      "Collecting azureml-sdk\n",
      "  Using cached azureml_sdk-1.0.57-py3-none-any.whl (4.5 kB)\n",
      "Collecting azureml-core==1.0.57.*\n",
      "  Using cached azureml_core-1.0.57.1-py2.py3-none-any.whl (1.0 MB)\n",
      "Collecting azureml-train==1.0.57.*\n",
      "  Using cached azureml_train-1.0.57-py3-none-any.whl (3.2 kB)\n",
      "Collecting azureml-pipeline==1.0.57.*\n",
      "  Using cached azureml_pipeline-1.0.57-py3-none-any.whl (3.7 kB)\n",
      "Collecting azureml-pipeline-core==1.0.57.*\n",
      "  Using cached azureml_pipeline_core-1.0.57-py2.py3-none-any.whl (205 kB)\n",
      "Collecting azureml-pipeline-steps==1.0.57.*\n",
      "  Using cached azureml_pipeline_steps-1.0.57-py3-none-any.whl (34 kB)\n",
      "Collecting azureml-train-core==1.0.57.*\n",
      "  Using cached azureml_train_core-1.0.57-py3-none-any.whl (77 kB)\n",
      "Collecting azureml-train-restclients-hyperdrive==1.0.57.*\n",
      "  Using cached azureml_train_restclients_hyperdrive-1.0.57-py3-none-any.whl (17 kB)\n",
      "Collecting azureml-telemetry==1.0.57.*\n",
      "  Using cached azureml_telemetry-1.0.57-py3-none-any.whl (24 kB)\n",
      "Collecting azureml-dataprep<1.2.0a,>=1.1.10a\n",
      "  Using cached azureml_dataprep-1.1.12-py3-none-any.whl (26.0 MB)\n",
      "  Using cached azureml_dataprep-1.1.11-py3-none-any.whl (26.0 MB)\n",
      "  Using cached azureml_dataprep-1.1.10-py3-none-any.whl (24.0 MB)\n",
      "Collecting azureml-core==1.0.57.*\n",
      "  Using cached azureml_core-1.0.57-py2.py3-none-any.whl (1.0 MB)\n",
      "Collecting azureml-sdk\n",
      "  Using cached azureml_sdk-1.0.55-py3-none-any.whl (4.5 kB)\n",
      "Collecting azureml-core==1.0.55.*\n",
      "  Using cached azureml_core-1.0.55-py2.py3-none-any.whl (995 kB)\n",
      "Collecting azureml-train==1.0.55.*\n",
      "  Using cached azureml_train-1.0.55-py3-none-any.whl (3.2 kB)\n",
      "Collecting azureml-pipeline==1.0.55.*\n",
      "  Using cached azureml_pipeline-1.0.55-py3-none-any.whl (3.7 kB)\n",
      "Collecting azureml-pipeline-core==1.0.55.*\n",
      "  Using cached azureml_pipeline_core-1.0.55-py2.py3-none-any.whl (204 kB)\n",
      "Collecting azureml-pipeline-steps==1.0.55.*\n",
      "  Using cached azureml_pipeline_steps-1.0.55-py3-none-any.whl (34 kB)\n",
      "Collecting azureml-train-core==1.0.55.*\n",
      "  Using cached azureml_train_core-1.0.55-py3-none-any.whl (71 kB)\n",
      "Collecting azureml-train-restclients-hyperdrive==1.0.55.*\n",
      "  Using cached azureml_train_restclients_hyperdrive-1.0.55-py3-none-any.whl (17 kB)\n",
      "Collecting azureml-telemetry==1.0.55.*\n",
      "  Using cached azureml_telemetry-1.0.55-py3-none-any.whl (22 kB)\n",
      "Collecting azureml-dataprep<1.2.0a,>=1.1.9a\n",
      "  Using cached azureml_dataprep-1.1.9-py3-none-any.whl (24.0 MB)\n",
      "Collecting azureml-sdk\n",
      "  Using cached azureml_sdk-1.0.53-py3-none-any.whl (4.5 kB)\n",
      "Collecting azureml-core==1.0.53.*\n",
      "  Using cached azureml_core-1.0.53-py2.py3-none-any.whl (974 kB)\n",
      "Collecting azureml-train==1.0.53.*\n",
      "  Using cached azureml_train-1.0.53-py3-none-any.whl (3.2 kB)\n",
      "Collecting azureml-pipeline==1.0.53.*\n",
      "  Using cached azureml_pipeline-1.0.53-py3-none-any.whl (3.7 kB)\n",
      "Collecting azureml-pipeline-core==1.0.53.*\n",
      "  Using cached azureml_pipeline_core-1.0.53-py2.py3-none-any.whl (193 kB)\n",
      "Collecting azureml-pipeline-steps==1.0.53.*\n",
      "  Using cached azureml_pipeline_steps-1.0.53-py3-none-any.whl (35 kB)\n",
      "Collecting azureml-train-core==1.0.53.*\n",
      "  Using cached azureml_train_core-1.0.53-py3-none-any.whl (64 kB)\n",
      "Collecting azureml-train-restclients-hyperdrive==1.0.53.*\n",
      "  Using cached azureml_train_restclients_hyperdrive-1.0.53-py3-none-any.whl (17 kB)\n",
      "Collecting azureml-telemetry==1.0.53.*\n",
      "  Using cached azureml_telemetry-1.0.53.1-py3-none-any.whl (22 kB)\n",
      "Collecting azureml-dataprep<1.2.0a,>=1.1.3a\n",
      "  Using cached azureml_dataprep-1.1.8-py3-none-any.whl (24.0 MB)\n",
      "  Using cached azureml_dataprep-1.1.7-py3-none-any.whl (24.0 MB)\n",
      "  Using cached azureml_dataprep-1.1.6-py3-none-any.whl (24.0 MB)\n",
      "  Using cached azureml_dataprep-1.1.5-py3-none-any.whl (23.9 MB)\n",
      "  Using cached azureml_dataprep-1.1.4-py3-none-any.whl (23.9 MB)\n",
      "  Using cached azureml_dataprep-1.1.3-py3-none-any.whl (23.9 MB)\n",
      "Collecting azureml-telemetry==1.0.53.*\n",
      "  Using cached azureml_telemetry-1.0.53-py3-none-any.whl (22 kB)\n",
      "Collecting azureml-sdk\n",
      "  Using cached azureml_sdk-1.0.48-py3-none-any.whl (4.5 kB)\n",
      "Collecting azureml-core==1.0.48.*\n",
      "  Using cached azureml_core-1.0.48-py2.py3-none-any.whl (958 kB)\n",
      "Collecting azureml-train==1.0.48.*\n",
      "  Using cached azureml_train-1.0.48-py3-none-any.whl (3.2 kB)\n",
      "Collecting azureml-pipeline==1.0.48.*\n",
      "  Using cached azureml_pipeline-1.0.48-py3-none-any.whl (3.7 kB)\n",
      "Collecting azureml-pipeline-core==1.0.48.*\n",
      "  Using cached azureml_pipeline_core-1.0.48-py2.py3-none-any.whl (192 kB)\n",
      "Collecting azureml-pipeline-steps==1.0.48.*\n",
      "  Using cached azureml_pipeline_steps-1.0.48-py3-none-any.whl (35 kB)\n",
      "Collecting azureml-train-core==1.0.48.*\n",
      "  Using cached azureml_train_core-1.0.48-py3-none-any.whl (64 kB)\n",
      "Collecting azureml-train-restclients-hyperdrive==1.0.48.*\n",
      "  Using cached azureml_train_restclients_hyperdrive-1.0.48-py3-none-any.whl (17 kB)\n",
      "Collecting azureml-telemetry==1.0.48.*\n",
      "  Using cached azureml_telemetry-1.0.48-py3-none-any.whl (12 kB)\n",
      "Collecting azureml-sdk\n",
      "  Using cached azureml_sdk-1.0.45-py3-none-any.whl (4.5 kB)\n",
      "Collecting azureml-core==1.0.45.*\n",
      "  Using cached azureml_core-1.0.45-py2.py3-none-any.whl (946 kB)\n",
      "Collecting azureml-train==1.0.45.*\n",
      "  Using cached azureml_train-1.0.45-py3-none-any.whl (3.2 kB)\n",
      "Collecting azureml-pipeline==1.0.45.*\n",
      "  Using cached azureml_pipeline-1.0.45-py3-none-any.whl (3.7 kB)\n",
      "Collecting azureml-pipeline-core==1.0.45.*\n",
      "  Using cached azureml_pipeline_core-1.0.45-py2.py3-none-any.whl (189 kB)\n",
      "Collecting azureml-pipeline-steps==1.0.45.*\n",
      "  Using cached azureml_pipeline_steps-1.0.45-py3-none-any.whl (36 kB)\n",
      "Collecting azureml-train-core==1.0.45.*\n",
      "  Using cached azureml_train_core-1.0.45-py3-none-any.whl (59 kB)\n",
      "Collecting azureml-train-restclients-hyperdrive==1.0.45.*\n",
      "  Using cached azureml_train_restclients_hyperdrive-1.0.45-py3-none-any.whl (17 kB)\n",
      "Collecting azureml-telemetry==1.0.45.*\n",
      "  Using cached azureml_telemetry-1.0.45-py3-none-any.whl (12 kB)\n",
      "Collecting azureml-sdk\n",
      "  Using cached azureml_sdk-1.0.43-py3-none-any.whl (4.5 kB)\n",
      "Collecting azureml-core==1.0.43.*\n",
      "  Using cached azureml_core-1.0.43.1-py2.py3-none-any.whl (937 kB)\n",
      "Collecting azureml-train==1.0.43.*\n",
      "  Using cached azureml_train-1.0.43-py3-none-any.whl (3.2 kB)\n",
      "Collecting azureml-pipeline==1.0.43.*\n",
      "  Using cached azureml_pipeline-1.0.43-py3-none-any.whl (3.7 kB)\n",
      "Collecting azureml-pipeline-core==1.0.43.*\n",
      "  Using cached azureml_pipeline_core-1.0.43-py2.py3-none-any.whl (186 kB)\n",
      "Collecting azureml-pipeline-steps==1.0.43.*\n",
      "  Using cached azureml_pipeline_steps-1.0.43-py3-none-any.whl (36 kB)\n",
      "Collecting azureml-train-core==1.0.43.*\n",
      "  Using cached azureml_train_core-1.0.43-py3-none-any.whl (61 kB)\n",
      "Collecting azureml-train-restclients-hyperdrive==1.0.43.*\n",
      "  Using cached azureml_train_restclients_hyperdrive-1.0.43-py3-none-any.whl (17 kB)\n",
      "Collecting azureml-telemetry==1.0.43.*\n",
      "  Using cached azureml_telemetry-1.0.43.1-py3-none-any.whl (12 kB)\n",
      "  Using cached azureml_telemetry-1.0.43-py3-none-any.whl (12 kB)\n",
      "Collecting azureml-core==1.0.43.*\n",
      "  Using cached azureml_core-1.0.43-py2.py3-none-any.whl (937 kB)\n",
      "Collecting paramiko>=2.0.8\n",
      "  Using cached paramiko-3.3.1-py3-none-any.whl (224 kB)\n",
      "Collecting azureml-sdk\n",
      "  Using cached azureml_sdk-1.0.41-py3-none-any.whl (4.5 kB)\n",
      "Collecting azureml-core==1.0.41.*\n",
      "  Using cached azureml_core-1.0.41.1-py2.py3-none-any.whl (915 kB)\n",
      "Collecting azureml-train==1.0.41.*\n",
      "  Using cached azureml_train-1.0.41-py3-none-any.whl (3.2 kB)\n",
      "Collecting azureml-pipeline==1.0.41.*\n",
      "  Using cached azureml_pipeline-1.0.41-py3-none-any.whl (3.6 kB)\n",
      "Collecting azureml-pipeline-core==1.0.41.*\n",
      "  Using cached azureml_pipeline_core-1.0.41.1-py2.py3-none-any.whl (168 kB)\n",
      "Collecting azureml-pipeline-steps==1.0.41.*\n",
      "  Using cached azureml_pipeline_steps-1.0.41-py3-none-any.whl (32 kB)\n",
      "Collecting azureml-train-core==1.0.41.*\n",
      "  Using cached azureml_train_core-1.0.41.1-py3-none-any.whl (61 kB)\n",
      "Collecting azureml-train-restclients-hyperdrive==1.0.41.*\n",
      "  Using cached azureml_train_restclients_hyperdrive-1.0.41-py3-none-any.whl (17 kB)\n",
      "Collecting azureml-telemetry==1.0.41.*\n",
      "  Using cached azureml_telemetry-1.0.41-py3-none-any.whl (12 kB)\n",
      "Collecting azureml-train-core==1.0.41.*\n",
      "  Using cached azureml_train_core-1.0.41-py3-none-any.whl (61 kB)\n",
      "Collecting azureml-pipeline-core==1.0.41.*\n",
      "  Using cached azureml_pipeline_core-1.0.41-py2.py3-none-any.whl (168 kB)\n",
      "Collecting azureml-core==1.0.41.*\n",
      "  Using cached azureml_core-1.0.41-py2.py3-none-any.whl (915 kB)\n",
      "Collecting azureml-sdk\n",
      "  Using cached azureml_sdk-1.0.39-py3-none-any.whl (4.5 kB)\n",
      "Collecting azureml-core==1.0.39.*\n",
      "  Using cached azureml_core-1.0.39-py2.py3-none-any.whl (902 kB)\n",
      "Collecting azureml-train==1.0.39.*\n",
      "  Using cached azureml_train-1.0.39-py3-none-any.whl (3.2 kB)\n",
      "Collecting azureml-pipeline==1.0.39.*\n",
      "  Using cached azureml_pipeline-1.0.39-py3-none-any.whl (3.6 kB)\n",
      "Collecting azureml-pipeline-core==1.0.39.*\n",
      "  Using cached azureml_pipeline_core-1.0.39-py2.py3-none-any.whl (163 kB)\n",
      "Collecting azureml-pipeline-steps==1.0.39.*\n",
      "  Using cached azureml_pipeline_steps-1.0.39-py3-none-any.whl (29 kB)\n",
      "Collecting azureml-train-core==1.0.39.*\n",
      "  Using cached azureml_train_core-1.0.39-py3-none-any.whl (54 kB)\n",
      "Collecting azureml-train-restclients-hyperdrive==1.0.39.*\n",
      "  Using cached azureml_train_restclients_hyperdrive-1.0.39-py3-none-any.whl (17 kB)\n",
      "Collecting azureml-telemetry==1.0.39.*\n",
      "  Using cached azureml_telemetry-1.0.39-py3-none-any.whl (12 kB)\n",
      "Collecting azureml-sdk\n",
      "  Using cached azureml_sdk-1.0.33-py3-none-any.whl (4.5 kB)\n",
      "Collecting azureml-core==1.0.33.*\n",
      "  Using cached azureml_core-1.0.33.1-py2.py3-none-any.whl (894 kB)\n",
      "Collecting azureml-train==1.0.33.*\n",
      "  Using cached azureml_train-1.0.33-py3-none-any.whl (3.2 kB)\n",
      "Collecting azureml-pipeline==1.0.33.*\n",
      "  Using cached azureml_pipeline-1.0.33-py3-none-any.whl (3.6 kB)\n",
      "Collecting azureml-pipeline-core==1.0.33.*\n",
      "  Using cached azureml_pipeline_core-1.0.33-py2.py3-none-any.whl (162 kB)\n",
      "Collecting azureml-pipeline-steps==1.0.33.*\n",
      "  Using cached azureml_pipeline_steps-1.0.33.1-py3-none-any.whl (29 kB)\n",
      "Collecting azureml-train-core==1.0.33.*\n",
      "  Using cached azureml_train_core-1.0.33-py3-none-any.whl (47 kB)\n",
      "Requirement already satisfied: certifi in /Library/Frameworks/Python.framework/Versions/3.11/lib/python3.11/site-packages (from azureml-pipeline-steps==1.0.33.*->azureml-pipeline==1.0.33.*->azureml-sdk) (2023.7.22)\n",
      "Collecting azureml-train-restclients-hyperdrive==1.0.33.*\n",
      "  Using cached azureml_train_restclients_hyperdrive-1.0.33-py3-none-any.whl (17 kB)\n",
      "Collecting azureml-telemetry==1.0.33.*\n",
      "  Using cached azureml_telemetry-1.0.33-py3-none-any.whl (12 kB)\n",
      "Collecting azureml-dataprep<1.2.0,>=1.1.2\n",
      "  Using cached azureml_dataprep-1.1.2.4-py3-none-any.whl (23.6 MB)\n",
      "  Using cached azureml_dataprep-1.1.2-py3-none-any.whl (23.6 MB)\n",
      "Collecting azureml-pipeline-steps==1.0.33.*\n",
      "  Using cached azureml_pipeline_steps-1.0.33-py3-none-any.whl (29 kB)\n",
      "Collecting azureml-core==1.0.33.*\n",
      "  Using cached azureml_core-1.0.33-py2.py3-none-any.whl (895 kB)\n",
      "Collecting azureml-sdk\n",
      "  Using cached azureml_sdk-1.0.30-py3-none-any.whl (4.5 kB)\n",
      "Collecting azureml-core==1.0.30.*\n",
      "  Using cached azureml_core-1.0.30-py2.py3-none-any.whl (888 kB)\n",
      "Collecting azureml-train==1.0.30.*\n",
      "  Using cached azureml_train-1.0.30-py3-none-any.whl (3.2 kB)\n",
      "Collecting azureml-pipeline==1.0.30.*\n",
      "  Using cached azureml_pipeline-1.0.30-py3-none-any.whl (3.6 kB)\n",
      "Collecting azureml-pipeline-core==1.0.30.*\n",
      "  Using cached azureml_pipeline_core-1.0.30-py2.py3-none-any.whl (161 kB)\n",
      "Collecting azureml-pipeline-steps==1.0.30.*\n",
      "  Using cached azureml_pipeline_steps-1.0.30-py3-none-any.whl (29 kB)\n",
      "Collecting azureml-train-core==1.0.30.*\n",
      "  Using cached azureml_train_core-1.0.30-py3-none-any.whl (45 kB)\n",
      "Collecting azureml-train-restclients-hyperdrive==1.0.30.*\n",
      "  Using cached azureml_train_restclients_hyperdrive-1.0.30-py3-none-any.whl (33 kB)\n",
      "Collecting azureml-telemetry==1.0.30.*\n",
      "  Using cached azureml_telemetry-1.0.30-py3-none-any.whl (12 kB)\n",
      "Collecting azureml-dataprep<1.2.0,>=1.1.1\n",
      "  Using cached azureml_dataprep-1.1.1-py3-none-any.whl (23.6 MB)\n",
      "Collecting azureml-sdk\n",
      "  Using cached azureml_sdk-1.0.23-py3-none-any.whl (4.4 kB)\n",
      "Collecting azureml-core==1.0.23.*\n",
      "  Using cached azureml_core-1.0.23-py2.py3-none-any.whl (811 kB)\n",
      "Collecting azureml-train==1.0.23.*\n",
      "  Using cached azureml_train-1.0.23-py3-none-any.whl (3.2 kB)\n",
      "Collecting azureml-pipeline==1.0.23.*\n",
      "  Using cached azureml_pipeline-1.0.23-py3-none-any.whl (3.6 kB)\n",
      "Collecting azureml-pipeline-core==1.0.23.*\n",
      "  Using cached azureml_pipeline_core-1.0.23-py2.py3-none-any.whl (153 kB)\n",
      "Collecting azureml-pipeline-steps==1.0.23.*\n",
      "  Using cached azureml_pipeline_steps-1.0.23-py3-none-any.whl (28 kB)\n",
      "Collecting azureml-train-core==1.0.23.*\n",
      "  Using cached azureml_train_core-1.0.23-py3-none-any.whl (40 kB)\n",
      "Collecting azureml-train-restclients-hyperdrive==1.0.23.*\n",
      "  Using cached azureml_train_restclients_hyperdrive-1.0.23-py3-none-any.whl (33 kB)\n",
      "Collecting azureml-telemetry==1.0.23.*\n",
      "  Using cached azureml_telemetry-1.0.23-py3-none-any.whl (12 kB)\n",
      "Collecting isodate<1.0.0,>=0.6.1\n",
      "  Using cached isodate-0.6.1-py2.py3-none-any.whl (41 kB)\n",
      "Collecting azure-mgmt-core<2.0.0,>=1.3.2\n",
      "  Using cached azure_mgmt_core-1.4.0-py3-none-any.whl (27 kB)\n",
      "Requirement already satisfied: cffi>=1.12 in /Library/Frameworks/Python.framework/Versions/3.11/lib/python3.11/site-packages (from cryptography!=1.9,!=2.0.*,!=2.1.*,!=2.2.*->azureml-core==1.1.5.*->azureml-sdk) (1.15.1)\n",
      "Collecting azure-core>=1.24.0\n",
      "  Downloading azure_core-1.29.0-py3-none-any.whl (188 kB)\n",
      "\u001b[2K     \u001b[90m━━━━━━━━━━━━━━━━━━━━━━━━━━━━━━━━━━━━━━━\u001b[0m \u001b[32m188.4/188.4 kB\u001b[0m \u001b[31m8.1 MB/s\u001b[0m eta \u001b[36m0:00:00\u001b[0m\n",
      "\u001b[?25hCollecting requests-oauthlib>=0.5.0\n",
      "  Using cached requests_oauthlib-1.3.1-py2.py3-none-any.whl (23 kB)\n",
      "Collecting bcrypt>=3.2\n",
      "  Using cached bcrypt-4.0.1-cp36-abi3-macosx_10_10_universal2.whl (473 kB)\n",
      "Collecting pynacl>=1.5\n",
      "  Using cached PyNaCl-1.5.0-cp36-abi3-macosx_10_10_universal2.whl (349 kB)\n",
      "Requirement already satisfied: charset-normalizer<4,>=2 in /Library/Frameworks/Python.framework/Versions/3.11/lib/python3.11/site-packages (from requests>=2.19.1->azureml-core==1.1.5.*->azureml-sdk) (3.2.0)\n",
      "Requirement already satisfied: idna<4,>=2.5 in /Library/Frameworks/Python.framework/Versions/3.11/lib/python3.11/site-packages (from requests>=2.19.1->azureml-core==1.1.5.*->azureml-sdk) (3.4)\n",
      "Collecting backports.weakref\n",
      "  Using cached backports.weakref-1.0.post1-py2.py3-none-any.whl (5.2 kB)\n",
      "Requirement already satisfied: packaging>=14.0 in /Users/deepanjalikumar/Library/Python/3.11/lib/python/site-packages (from docker->azureml-core==1.1.5.*->azureml-sdk) (23.1)\n",
      "Requirement already satisfied: websocket-client>=0.32.0 in /Library/Frameworks/Python.framework/Versions/3.11/lib/python3.11/site-packages (from docker->azureml-core==1.1.5.*->azureml-sdk) (1.6.1)\n",
      "Collecting pyasn1>=0.1.1\n",
      "  Using cached pyasn1-0.5.0-py2.py3-none-any.whl (83 kB)\n",
      "Collecting jeepney>=0.6\n",
      "  Using cached jeepney-0.8.0-py3-none-any.whl (48 kB)\n",
      "Collecting typing-extensions>=4.3.0\n",
      "  Using cached typing_extensions-4.7.1-py3-none-any.whl (33 kB)\n",
      "Requirement already satisfied: pycparser in /Library/Frameworks/Python.framework/Versions/3.11/lib/python3.11/site-packages (from cffi>=1.12->cryptography!=1.9,!=2.0.*,!=2.1.*,!=2.2.*->azureml-core==1.1.5.*->azureml-sdk) (2.21)\n",
      "Collecting oauthlib>=3.0.0\n",
      "  Using cached oauthlib-3.2.2-py3-none-any.whl (151 kB)\n",
      "Installing collected packages: ruamel.yaml, backports.weakref, azure-common, applicationinsights, typing-extensions, PyJWT, pyasn1, pathspec, oauthlib, jsonpickle, jmespath, jeepney, isodate, contextlib2, bcrypt, backports.tempfile, azureml-telemetry, requests-oauthlib, pynacl, docker, cryptography, azureml-train-restclients-hyperdrive, azure-core, SecretStorage, pyopenssl, paramiko, msrest, azure-mgmt-core, adal, ndg-httpsclient, msrestazure, azure-mgmt-storage, azure-mgmt-resource, azure-mgmt-keyvault, azure-mgmt-containerregistry, azure-mgmt-authorization, azure-graphrbac, azureml-core, azureml-train-core, azureml-pipeline-core, azureml-train, azureml-pipeline-steps, azureml-pipeline, azureml-sdk\n",
      "\u001b[33m  DEPRECATION: ruamel.yaml is being installed using the legacy 'setup.py install' method, because it does not have a 'pyproject.toml' and the 'wheel' package is not installed. pip 23.1 will enforce this behaviour change. A possible replacement is to enable the '--use-pep517' option. Discussion can be found at https://github.com/pypa/pip/issues/8559\u001b[0m\u001b[33m\n",
      "\u001b[0m  Running setup.py install for ruamel.yaml ... \u001b[?25lerror\n",
      "  \u001b[1;31merror\u001b[0m: \u001b[1msubprocess-exited-with-error\u001b[0m\n",
      "  \n",
      "  \u001b[31m×\u001b[0m \u001b[32mRunning setup.py install for ruamel.yaml\u001b[0m did not run successfully.\n",
      "  \u001b[31m│\u001b[0m exit code: \u001b[1;36m1\u001b[0m\n",
      "  \u001b[31m╰─>\u001b[0m \u001b[31m[53 lines of output]\u001b[0m\n",
      "  \u001b[31m   \u001b[0m sys.argv ['/private/var/folders/ty/5dlc4cws7_33lnl38yhh8b2h0000gn/T/pip-install-d9b2vdim/ruamel-yaml_55e3352dd7d8456a931148524bdf94bb/setup.py', 'install', '--record', '/private/var/folders/ty/5dlc4cws7_33lnl38yhh8b2h0000gn/T/pip-record-50a6xji_/install-record.txt', '--single-version-externally-managed', '--compile', '--install-headers', '/Library/Frameworks/Python.framework/Versions/3.11/include/python3.11/ruamel.yaml']\n",
      "  \u001b[31m   \u001b[0m test compiling test_ruamel_yaml\n",
      "  \u001b[31m   \u001b[0m /Library/Frameworks/Python.framework/Versions/3.11/lib/python3.11/site-packages/setuptools/dist.py:286: SetuptoolsDeprecationWarning: The namespace_packages parameter is deprecated, consider using implicit namespaces instead (PEP 420).\n",
      "  \u001b[31m   \u001b[0m   warnings.warn(msg, SetuptoolsDeprecationWarning)\n",
      "  \u001b[31m   \u001b[0m running install\n",
      "  \u001b[31m   \u001b[0m /Library/Frameworks/Python.framework/Versions/3.11/lib/python3.11/site-packages/setuptools/command/install.py:34: SetuptoolsDeprecationWarning: setup.py install is deprecated. Use build and pip and other standards-based tools.\n",
      "  \u001b[31m   \u001b[0m   warnings.warn(\n",
      "  \u001b[31m   \u001b[0m running build\n",
      "  \u001b[31m   \u001b[0m running build_py\n",
      "  \u001b[31m   \u001b[0m creating build\n",
      "  \u001b[31m   \u001b[0m creating build/lib.macosx-10.9-universal2-cpython-311\n",
      "  \u001b[31m   \u001b[0m creating build/lib.macosx-10.9-universal2-cpython-311/ruamel\n",
      "  \u001b[31m   \u001b[0m copying .ruamel/__init__.py -> build/lib.macosx-10.9-universal2-cpython-311/ruamel\n",
      "  \u001b[31m   \u001b[0m creating build/lib.macosx-10.9-universal2-cpython-311/ruamel/yaml\n",
      "  \u001b[31m   \u001b[0m copying ./scalarfloat.py -> build/lib.macosx-10.9-universal2-cpython-311/ruamel/yaml\n",
      "  \u001b[31m   \u001b[0m copying ./scanner.py -> build/lib.macosx-10.9-universal2-cpython-311/ruamel/yaml\n",
      "  \u001b[31m   \u001b[0m copying ./compat.py -> build/lib.macosx-10.9-universal2-cpython-311/ruamel/yaml\n",
      "  \u001b[31m   \u001b[0m copying ./error.py -> build/lib.macosx-10.9-universal2-cpython-311/ruamel/yaml\n",
      "  \u001b[31m   \u001b[0m copying ./anchor.py -> build/lib.macosx-10.9-universal2-cpython-311/ruamel/yaml\n",
      "  \u001b[31m   \u001b[0m copying ./constructor.py -> build/lib.macosx-10.9-universal2-cpython-311/ruamel/yaml\n",
      "  \u001b[31m   \u001b[0m copying ./composer.py -> build/lib.macosx-10.9-universal2-cpython-311/ruamel/yaml\n",
      "  \u001b[31m   \u001b[0m copying ./util.py -> build/lib.macosx-10.9-universal2-cpython-311/ruamel/yaml\n",
      "  \u001b[31m   \u001b[0m copying ./events.py -> build/lib.macosx-10.9-universal2-cpython-311/ruamel/yaml\n",
      "  \u001b[31m   \u001b[0m copying ./scalarint.py -> build/lib.macosx-10.9-universal2-cpython-311/ruamel/yaml\n",
      "  \u001b[31m   \u001b[0m copying ./scalarbool.py -> build/lib.macosx-10.9-universal2-cpython-311/ruamel/yaml\n",
      "  \u001b[31m   \u001b[0m copying ./configobjwalker.py -> build/lib.macosx-10.9-universal2-cpython-311/ruamel/yaml\n",
      "  \u001b[31m   \u001b[0m copying ./__init__.py -> build/lib.macosx-10.9-universal2-cpython-311/ruamel/yaml\n",
      "  \u001b[31m   \u001b[0m copying ./representer.py -> build/lib.macosx-10.9-universal2-cpython-311/ruamel/yaml\n",
      "  \u001b[31m   \u001b[0m copying ./tokens.py -> build/lib.macosx-10.9-universal2-cpython-311/ruamel/yaml\n",
      "  \u001b[31m   \u001b[0m copying ./dumper.py -> build/lib.macosx-10.9-universal2-cpython-311/ruamel/yaml\n",
      "  \u001b[31m   \u001b[0m copying ./cyaml.py -> build/lib.macosx-10.9-universal2-cpython-311/ruamel/yaml\n",
      "  \u001b[31m   \u001b[0m copying ./parser.py -> build/lib.macosx-10.9-universal2-cpython-311/ruamel/yaml\n",
      "  \u001b[31m   \u001b[0m copying ./reader.py -> build/lib.macosx-10.9-universal2-cpython-311/ruamel/yaml\n",
      "  \u001b[31m   \u001b[0m copying ./scalarstring.py -> build/lib.macosx-10.9-universal2-cpython-311/ruamel/yaml\n",
      "  \u001b[31m   \u001b[0m copying ./loader.py -> build/lib.macosx-10.9-universal2-cpython-311/ruamel/yaml\n",
      "  \u001b[31m   \u001b[0m copying ./resolver.py -> build/lib.macosx-10.9-universal2-cpython-311/ruamel/yaml\n",
      "  \u001b[31m   \u001b[0m copying ./serializer.py -> build/lib.macosx-10.9-universal2-cpython-311/ruamel/yaml\n",
      "  \u001b[31m   \u001b[0m copying ./nodes.py -> build/lib.macosx-10.9-universal2-cpython-311/ruamel/yaml\n",
      "  \u001b[31m   \u001b[0m copying ./timestamp.py -> build/lib.macosx-10.9-universal2-cpython-311/ruamel/yaml\n",
      "  \u001b[31m   \u001b[0m copying ./main.py -> build/lib.macosx-10.9-universal2-cpython-311/ruamel/yaml\n",
      "  \u001b[31m   \u001b[0m copying ./emitter.py -> build/lib.macosx-10.9-universal2-cpython-311/ruamel/yaml\n",
      "  \u001b[31m   \u001b[0m copying ./comments.py -> build/lib.macosx-10.9-universal2-cpython-311/ruamel/yaml\n",
      "  \u001b[31m   \u001b[0m copying ./LICENSE -> build/lib.macosx-10.9-universal2-cpython-311/ruamel/yaml\n",
      "  \u001b[31m   \u001b[0m running build_ext\n",
      "  \u001b[31m   \u001b[0m building '_ruamel_yaml' extension\n",
      "  \u001b[31m   \u001b[0m creating build/temp.macosx-10.9-universal2-cpython-311\n",
      "  \u001b[31m   \u001b[0m creating build/temp.macosx-10.9-universal2-cpython-311/ext\n",
      "  \u001b[31m   \u001b[0m clang -Wsign-compare -Wunreachable-code -fno-common -dynamic -DNDEBUG -g -fwrapv -O3 -Wall -arch arm64 -arch x86_64 -g -I/Library/Frameworks/Python.framework/Versions/3.11/include/python3.11 -c ext/_ruamel_yaml.c -o build/temp.macosx-10.9-universal2-cpython-311/ext/_ruamel_yaml.o\n",
      "  \u001b[31m   \u001b[0m ext/_ruamel_yaml.c:181:12: fatal error: 'longintrepr.h' file not found\n",
      "  \u001b[31m   \u001b[0m   #include \"longintrepr.h\"\n",
      "  \u001b[31m   \u001b[0m            ^~~~~~~~~~~~~~~\n",
      "  \u001b[31m   \u001b[0m 1 error generated.\n",
      "  \u001b[31m   \u001b[0m error: command '/usr/bin/clang' failed with exit code 1\n",
      "  \u001b[31m   \u001b[0m \u001b[31m[end of output]\u001b[0m\n",
      "  \n",
      "  \u001b[1;35mnote\u001b[0m: This error originates from a subprocess, and is likely not a problem with pip.\n",
      "\u001b[?25h\u001b[1;31merror\u001b[0m: \u001b[1mlegacy-install-failure\u001b[0m\n",
      "\n",
      "\u001b[31m×\u001b[0m Encountered error while trying to install package.\n",
      "\u001b[31m╰─>\u001b[0m ruamel.yaml\n",
      "\n",
      "\u001b[1;35mnote\u001b[0m: This is an issue with the package mentioned above, not pip.\n",
      "\u001b[1;36mhint\u001b[0m: See above for output from the failure.\n",
      "\n",
      "\u001b[1m[\u001b[0m\u001b[34;49mnotice\u001b[0m\u001b[1;39;49m]\u001b[0m\u001b[39;49m A new release of pip available: \u001b[0m\u001b[31;49m22.3\u001b[0m\u001b[39;49m -> \u001b[0m\u001b[32;49m23.2.1\u001b[0m\n",
      "\u001b[1m[\u001b[0m\u001b[34;49mnotice\u001b[0m\u001b[1;39;49m]\u001b[0m\u001b[39;49m To update, run: \u001b[0m\u001b[32;49mpip3 install --upgrade pip\u001b[0m\n",
      "Requirement already satisfied: openpyxl in /Library/Frameworks/Python.framework/Versions/3.11/lib/python3.11/site-packages (3.1.2)\n",
      "Requirement already satisfied: et-xmlfile in /Library/Frameworks/Python.framework/Versions/3.11/lib/python3.11/site-packages (from openpyxl) (1.1.0)\n",
      "\n",
      "\u001b[1m[\u001b[0m\u001b[34;49mnotice\u001b[0m\u001b[1;39;49m]\u001b[0m\u001b[39;49m A new release of pip available: \u001b[0m\u001b[31;49m22.3\u001b[0m\u001b[39;49m -> \u001b[0m\u001b[32;49m23.2.1\u001b[0m\n",
      "\u001b[1m[\u001b[0m\u001b[34;49mnotice\u001b[0m\u001b[1;39;49m]\u001b[0m\u001b[39;49m To update, run: \u001b[0m\u001b[32;49mpip3 install --upgrade pip\u001b[0m\n",
      "ERROR: unknown command \"installl\" - maybe you meant \"install\"\n",
      "Requirement already satisfied: ipykernel in /Users/deepanjalikumar/Library/Python/3.11/lib/python/site-packages (6.23.1)\n",
      "Requirement already satisfied: appnope in /Users/deepanjalikumar/Library/Python/3.11/lib/python/site-packages (from ipykernel) (0.1.3)\n",
      "Requirement already satisfied: comm>=0.1.1 in /Users/deepanjalikumar/Library/Python/3.11/lib/python/site-packages (from ipykernel) (0.1.3)\n",
      "Requirement already satisfied: debugpy>=1.6.5 in /Users/deepanjalikumar/Library/Python/3.11/lib/python/site-packages (from ipykernel) (1.6.7)\n",
      "Requirement already satisfied: ipython>=7.23.1 in /Users/deepanjalikumar/Library/Python/3.11/lib/python/site-packages (from ipykernel) (8.13.2)\n",
      "Requirement already satisfied: jupyter-client>=6.1.12 in /Users/deepanjalikumar/Library/Python/3.11/lib/python/site-packages (from ipykernel) (8.2.0)\n",
      "Requirement already satisfied: jupyter-core!=5.0.*,>=4.12 in /Users/deepanjalikumar/Library/Python/3.11/lib/python/site-packages (from ipykernel) (5.3.0)\n",
      "Requirement already satisfied: matplotlib-inline>=0.1 in /Users/deepanjalikumar/Library/Python/3.11/lib/python/site-packages (from ipykernel) (0.1.6)\n",
      "Requirement already satisfied: nest-asyncio in /Users/deepanjalikumar/Library/Python/3.11/lib/python/site-packages (from ipykernel) (1.5.6)\n",
      "Requirement already satisfied: packaging in /Users/deepanjalikumar/Library/Python/3.11/lib/python/site-packages (from ipykernel) (23.1)\n",
      "Requirement already satisfied: psutil in /Users/deepanjalikumar/Library/Python/3.11/lib/python/site-packages (from ipykernel) (5.9.5)\n",
      "Requirement already satisfied: pyzmq>=20 in /Users/deepanjalikumar/Library/Python/3.11/lib/python/site-packages (from ipykernel) (25.1.0)\n",
      "Requirement already satisfied: tornado>=6.1 in /Users/deepanjalikumar/Library/Python/3.11/lib/python/site-packages (from ipykernel) (6.3.2)\n",
      "Requirement already satisfied: traitlets>=5.4.0 in /Users/deepanjalikumar/Library/Python/3.11/lib/python/site-packages (from ipykernel) (5.9.0)\n",
      "Requirement already satisfied: backcall in /Users/deepanjalikumar/Library/Python/3.11/lib/python/site-packages (from ipython>=7.23.1->ipykernel) (0.2.0)\n",
      "Requirement already satisfied: decorator in /Users/deepanjalikumar/Library/Python/3.11/lib/python/site-packages (from ipython>=7.23.1->ipykernel) (5.1.1)\n",
      "Requirement already satisfied: jedi>=0.16 in /Users/deepanjalikumar/Library/Python/3.11/lib/python/site-packages (from ipython>=7.23.1->ipykernel) (0.18.2)\n",
      "Requirement already satisfied: pickleshare in /Users/deepanjalikumar/Library/Python/3.11/lib/python/site-packages (from ipython>=7.23.1->ipykernel) (0.7.5)\n",
      "Requirement already satisfied: prompt-toolkit!=3.0.37,<3.1.0,>=3.0.30 in /Users/deepanjalikumar/Library/Python/3.11/lib/python/site-packages (from ipython>=7.23.1->ipykernel) (3.0.38)\n",
      "Requirement already satisfied: pygments>=2.4.0 in /Users/deepanjalikumar/Library/Python/3.11/lib/python/site-packages (from ipython>=7.23.1->ipykernel) (2.15.1)\n",
      "Requirement already satisfied: stack-data in /Users/deepanjalikumar/Library/Python/3.11/lib/python/site-packages (from ipython>=7.23.1->ipykernel) (0.6.2)\n",
      "Requirement already satisfied: pexpect>4.3 in /Users/deepanjalikumar/Library/Python/3.11/lib/python/site-packages (from ipython>=7.23.1->ipykernel) (4.8.0)\n",
      "Requirement already satisfied: python-dateutil>=2.8.2 in /Users/deepanjalikumar/Library/Python/3.11/lib/python/site-packages (from jupyter-client>=6.1.12->ipykernel) (2.8.2)\n",
      "Requirement already satisfied: platformdirs>=2.5 in /Users/deepanjalikumar/Library/Python/3.11/lib/python/site-packages (from jupyter-core!=5.0.*,>=4.12->ipykernel) (3.5.1)\n",
      "Requirement already satisfied: parso<0.9.0,>=0.8.0 in /Users/deepanjalikumar/Library/Python/3.11/lib/python/site-packages (from jedi>=0.16->ipython>=7.23.1->ipykernel) (0.8.3)\n",
      "Requirement already satisfied: ptyprocess>=0.5 in /Users/deepanjalikumar/Library/Python/3.11/lib/python/site-packages (from pexpect>4.3->ipython>=7.23.1->ipykernel) (0.7.0)\n",
      "Requirement already satisfied: wcwidth in /Users/deepanjalikumar/Library/Python/3.11/lib/python/site-packages (from prompt-toolkit!=3.0.37,<3.1.0,>=3.0.30->ipython>=7.23.1->ipykernel) (0.2.6)\n",
      "Requirement already satisfied: six>=1.5 in /Users/deepanjalikumar/Library/Python/3.11/lib/python/site-packages (from python-dateutil>=2.8.2->jupyter-client>=6.1.12->ipykernel) (1.16.0)\n",
      "Requirement already satisfied: executing>=1.2.0 in /Users/deepanjalikumar/Library/Python/3.11/lib/python/site-packages (from stack-data->ipython>=7.23.1->ipykernel) (1.2.0)\n",
      "Requirement already satisfied: asttokens>=2.1.0 in /Users/deepanjalikumar/Library/Python/3.11/lib/python/site-packages (from stack-data->ipython>=7.23.1->ipykernel) (2.2.1)\n",
      "Requirement already satisfied: pure-eval in /Users/deepanjalikumar/Library/Python/3.11/lib/python/site-packages (from stack-data->ipython>=7.23.1->ipykernel) (0.2.2)\n",
      "\n",
      "\u001b[1m[\u001b[0m\u001b[34;49mnotice\u001b[0m\u001b[1;39;49m]\u001b[0m\u001b[39;49m A new release of pip available: \u001b[0m\u001b[31;49m22.3\u001b[0m\u001b[39;49m -> \u001b[0m\u001b[32;49m23.2.1\u001b[0m\n",
      "\u001b[1m[\u001b[0m\u001b[34;49mnotice\u001b[0m\u001b[1;39;49m]\u001b[0m\u001b[39;49m To update, run: \u001b[0m\u001b[32;49mpip3 install --upgrade pip\u001b[0m\n",
      "Requirement already satisfied: jupyter in /Library/Frameworks/Python.framework/Versions/3.11/lib/python3.11/site-packages (1.0.0)\n",
      "Requirement already satisfied: notebook in /Library/Frameworks/Python.framework/Versions/3.11/lib/python3.11/site-packages (from jupyter) (7.0.2)\n",
      "Requirement already satisfied: qtconsole in /Library/Frameworks/Python.framework/Versions/3.11/lib/python3.11/site-packages (from jupyter) (5.4.3)\n",
      "Requirement already satisfied: jupyter-console in /Library/Frameworks/Python.framework/Versions/3.11/lib/python3.11/site-packages (from jupyter) (6.6.3)\n",
      "Requirement already satisfied: nbconvert in /Library/Frameworks/Python.framework/Versions/3.11/lib/python3.11/site-packages (from jupyter) (7.7.3)\n",
      "Requirement already satisfied: ipykernel in /Users/deepanjalikumar/Library/Python/3.11/lib/python/site-packages (from jupyter) (6.23.1)\n",
      "Requirement already satisfied: ipywidgets in /Library/Frameworks/Python.framework/Versions/3.11/lib/python3.11/site-packages (from jupyter) (8.0.6)\n",
      "Requirement already satisfied: appnope in /Users/deepanjalikumar/Library/Python/3.11/lib/python/site-packages (from ipykernel->jupyter) (0.1.3)\n",
      "Requirement already satisfied: comm>=0.1.1 in /Users/deepanjalikumar/Library/Python/3.11/lib/python/site-packages (from ipykernel->jupyter) (0.1.3)\n",
      "Requirement already satisfied: debugpy>=1.6.5 in /Users/deepanjalikumar/Library/Python/3.11/lib/python/site-packages (from ipykernel->jupyter) (1.6.7)\n",
      "Requirement already satisfied: ipython>=7.23.1 in /Users/deepanjalikumar/Library/Python/3.11/lib/python/site-packages (from ipykernel->jupyter) (8.13.2)\n",
      "Requirement already satisfied: jupyter-client>=6.1.12 in /Users/deepanjalikumar/Library/Python/3.11/lib/python/site-packages (from ipykernel->jupyter) (8.2.0)\n",
      "Requirement already satisfied: jupyter-core!=5.0.*,>=4.12 in /Users/deepanjalikumar/Library/Python/3.11/lib/python/site-packages (from ipykernel->jupyter) (5.3.0)\n",
      "Requirement already satisfied: matplotlib-inline>=0.1 in /Users/deepanjalikumar/Library/Python/3.11/lib/python/site-packages (from ipykernel->jupyter) (0.1.6)\n",
      "Requirement already satisfied: nest-asyncio in /Users/deepanjalikumar/Library/Python/3.11/lib/python/site-packages (from ipykernel->jupyter) (1.5.6)\n",
      "Requirement already satisfied: packaging in /Users/deepanjalikumar/Library/Python/3.11/lib/python/site-packages (from ipykernel->jupyter) (23.1)\n",
      "Requirement already satisfied: psutil in /Users/deepanjalikumar/Library/Python/3.11/lib/python/site-packages (from ipykernel->jupyter) (5.9.5)\n",
      "Requirement already satisfied: pyzmq>=20 in /Users/deepanjalikumar/Library/Python/3.11/lib/python/site-packages (from ipykernel->jupyter) (25.1.0)\n",
      "Requirement already satisfied: tornado>=6.1 in /Users/deepanjalikumar/Library/Python/3.11/lib/python/site-packages (from ipykernel->jupyter) (6.3.2)\n",
      "Requirement already satisfied: traitlets>=5.4.0 in /Users/deepanjalikumar/Library/Python/3.11/lib/python/site-packages (from ipykernel->jupyter) (5.9.0)\n",
      "Requirement already satisfied: widgetsnbextension~=4.0.7 in /Library/Frameworks/Python.framework/Versions/3.11/lib/python3.11/site-packages (from ipywidgets->jupyter) (4.0.7)\n",
      "Requirement already satisfied: jupyterlab-widgets~=3.0.7 in /Library/Frameworks/Python.framework/Versions/3.11/lib/python3.11/site-packages (from ipywidgets->jupyter) (3.0.7)\n",
      "Requirement already satisfied: prompt-toolkit>=3.0.30 in /Users/deepanjalikumar/Library/Python/3.11/lib/python/site-packages (from jupyter-console->jupyter) (3.0.38)\n",
      "Requirement already satisfied: pygments in /Users/deepanjalikumar/Library/Python/3.11/lib/python/site-packages (from jupyter-console->jupyter) (2.15.1)\n",
      "Requirement already satisfied: beautifulsoup4 in /Library/Frameworks/Python.framework/Versions/3.11/lib/python3.11/site-packages (from nbconvert->jupyter) (4.12.2)\n",
      "Requirement already satisfied: bleach!=5.0.0 in /Library/Frameworks/Python.framework/Versions/3.11/lib/python3.11/site-packages (from nbconvert->jupyter) (6.0.0)\n",
      "Requirement already satisfied: defusedxml in /Library/Frameworks/Python.framework/Versions/3.11/lib/python3.11/site-packages (from nbconvert->jupyter) (0.7.1)\n",
      "Requirement already satisfied: jinja2>=3.0 in /Library/Frameworks/Python.framework/Versions/3.11/lib/python3.11/site-packages (from nbconvert->jupyter) (3.1.2)\n",
      "Requirement already satisfied: jupyterlab-pygments in /Library/Frameworks/Python.framework/Versions/3.11/lib/python3.11/site-packages (from nbconvert->jupyter) (0.2.2)\n",
      "Requirement already satisfied: markupsafe>=2.0 in /Library/Frameworks/Python.framework/Versions/3.11/lib/python3.11/site-packages (from nbconvert->jupyter) (2.1.3)\n",
      "Requirement already satisfied: mistune<4,>=2.0.3 in /Library/Frameworks/Python.framework/Versions/3.11/lib/python3.11/site-packages (from nbconvert->jupyter) (3.0.1)\n",
      "Requirement already satisfied: nbclient>=0.5.0 in /Library/Frameworks/Python.framework/Versions/3.11/lib/python3.11/site-packages (from nbconvert->jupyter) (0.8.0)\n",
      "Requirement already satisfied: nbformat>=5.7 in /Library/Frameworks/Python.framework/Versions/3.11/lib/python3.11/site-packages (from nbconvert->jupyter) (5.9.2)\n",
      "Requirement already satisfied: pandocfilters>=1.4.1 in /Library/Frameworks/Python.framework/Versions/3.11/lib/python3.11/site-packages (from nbconvert->jupyter) (1.5.0)\n",
      "Requirement already satisfied: tinycss2 in /Library/Frameworks/Python.framework/Versions/3.11/lib/python3.11/site-packages (from nbconvert->jupyter) (1.2.1)\n",
      "Requirement already satisfied: jupyter-server<3,>=2.4.0 in /Library/Frameworks/Python.framework/Versions/3.11/lib/python3.11/site-packages (from notebook->jupyter) (2.7.0)\n",
      "Requirement already satisfied: jupyterlab-server<3,>=2.22.1 in /Library/Frameworks/Python.framework/Versions/3.11/lib/python3.11/site-packages (from notebook->jupyter) (2.24.0)\n",
      "Requirement already satisfied: jupyterlab<5,>=4.0.2 in /Library/Frameworks/Python.framework/Versions/3.11/lib/python3.11/site-packages (from notebook->jupyter) (4.0.4)\n",
      "Requirement already satisfied: notebook-shim<0.3,>=0.2 in /Library/Frameworks/Python.framework/Versions/3.11/lib/python3.11/site-packages (from notebook->jupyter) (0.2.3)\n",
      "Requirement already satisfied: ipython-genutils in /Library/Frameworks/Python.framework/Versions/3.11/lib/python3.11/site-packages (from qtconsole->jupyter) (0.2.0)\n",
      "Requirement already satisfied: qtpy>=2.0.1 in /Library/Frameworks/Python.framework/Versions/3.11/lib/python3.11/site-packages (from qtconsole->jupyter) (2.3.1)\n",
      "Requirement already satisfied: six>=1.9.0 in /Users/deepanjalikumar/Library/Python/3.11/lib/python/site-packages (from bleach!=5.0.0->nbconvert->jupyter) (1.16.0)\n",
      "Requirement already satisfied: webencodings in /Library/Frameworks/Python.framework/Versions/3.11/lib/python3.11/site-packages (from bleach!=5.0.0->nbconvert->jupyter) (0.5.1)\n",
      "Requirement already satisfied: backcall in /Users/deepanjalikumar/Library/Python/3.11/lib/python/site-packages (from ipython>=7.23.1->ipykernel->jupyter) (0.2.0)\n",
      "Requirement already satisfied: decorator in /Users/deepanjalikumar/Library/Python/3.11/lib/python/site-packages (from ipython>=7.23.1->ipykernel->jupyter) (5.1.1)\n",
      "Requirement already satisfied: jedi>=0.16 in /Users/deepanjalikumar/Library/Python/3.11/lib/python/site-packages (from ipython>=7.23.1->ipykernel->jupyter) (0.18.2)\n",
      "Requirement already satisfied: pickleshare in /Users/deepanjalikumar/Library/Python/3.11/lib/python/site-packages (from ipython>=7.23.1->ipykernel->jupyter) (0.7.5)\n",
      "Requirement already satisfied: stack-data in /Users/deepanjalikumar/Library/Python/3.11/lib/python/site-packages (from ipython>=7.23.1->ipykernel->jupyter) (0.6.2)\n",
      "Requirement already satisfied: pexpect>4.3 in /Users/deepanjalikumar/Library/Python/3.11/lib/python/site-packages (from ipython>=7.23.1->ipykernel->jupyter) (4.8.0)\n",
      "Requirement already satisfied: python-dateutil>=2.8.2 in /Users/deepanjalikumar/Library/Python/3.11/lib/python/site-packages (from jupyter-client>=6.1.12->ipykernel->jupyter) (2.8.2)\n",
      "Requirement already satisfied: platformdirs>=2.5 in /Users/deepanjalikumar/Library/Python/3.11/lib/python/site-packages (from jupyter-core!=5.0.*,>=4.12->ipykernel->jupyter) (3.5.1)\n",
      "Requirement already satisfied: anyio>=3.1.0 in /Library/Frameworks/Python.framework/Versions/3.11/lib/python3.11/site-packages (from jupyter-server<3,>=2.4.0->notebook->jupyter) (3.7.1)\n",
      "Requirement already satisfied: argon2-cffi in /Library/Frameworks/Python.framework/Versions/3.11/lib/python3.11/site-packages (from jupyter-server<3,>=2.4.0->notebook->jupyter) (21.3.0)\n",
      "Requirement already satisfied: jupyter-events>=0.6.0 in /Library/Frameworks/Python.framework/Versions/3.11/lib/python3.11/site-packages (from jupyter-server<3,>=2.4.0->notebook->jupyter) (0.7.0)\n",
      "Requirement already satisfied: jupyter-server-terminals in /Library/Frameworks/Python.framework/Versions/3.11/lib/python3.11/site-packages (from jupyter-server<3,>=2.4.0->notebook->jupyter) (0.4.4)\n",
      "Requirement already satisfied: overrides in /Library/Frameworks/Python.framework/Versions/3.11/lib/python3.11/site-packages (from jupyter-server<3,>=2.4.0->notebook->jupyter) (7.3.1)\n",
      "Requirement already satisfied: prometheus-client in /Library/Frameworks/Python.framework/Versions/3.11/lib/python3.11/site-packages (from jupyter-server<3,>=2.4.0->notebook->jupyter) (0.17.1)\n",
      "Requirement already satisfied: send2trash in /Library/Frameworks/Python.framework/Versions/3.11/lib/python3.11/site-packages (from jupyter-server<3,>=2.4.0->notebook->jupyter) (1.8.2)\n",
      "Requirement already satisfied: terminado>=0.8.3 in /Library/Frameworks/Python.framework/Versions/3.11/lib/python3.11/site-packages (from jupyter-server<3,>=2.4.0->notebook->jupyter) (0.17.1)\n",
      "Requirement already satisfied: websocket-client in /Library/Frameworks/Python.framework/Versions/3.11/lib/python3.11/site-packages (from jupyter-server<3,>=2.4.0->notebook->jupyter) (1.6.1)\n",
      "Requirement already satisfied: async-lru>=1.0.0 in /Library/Frameworks/Python.framework/Versions/3.11/lib/python3.11/site-packages (from jupyterlab<5,>=4.0.2->notebook->jupyter) (2.0.4)\n",
      "Requirement already satisfied: jupyter-lsp>=2.0.0 in /Library/Frameworks/Python.framework/Versions/3.11/lib/python3.11/site-packages (from jupyterlab<5,>=4.0.2->notebook->jupyter) (2.2.0)\n",
      "Requirement already satisfied: babel>=2.10 in /Library/Frameworks/Python.framework/Versions/3.11/lib/python3.11/site-packages (from jupyterlab-server<3,>=2.22.1->notebook->jupyter) (2.12.1)\n",
      "Requirement already satisfied: json5>=0.9.0 in /Library/Frameworks/Python.framework/Versions/3.11/lib/python3.11/site-packages (from jupyterlab-server<3,>=2.22.1->notebook->jupyter) (0.9.14)\n",
      "Requirement already satisfied: jsonschema>=4.17.3 in /Library/Frameworks/Python.framework/Versions/3.11/lib/python3.11/site-packages (from jupyterlab-server<3,>=2.22.1->notebook->jupyter) (4.18.6)\n",
      "Requirement already satisfied: requests>=2.28 in /Library/Frameworks/Python.framework/Versions/3.11/lib/python3.11/site-packages (from jupyterlab-server<3,>=2.22.1->notebook->jupyter) (2.31.0)\n",
      "Requirement already satisfied: fastjsonschema in /Library/Frameworks/Python.framework/Versions/3.11/lib/python3.11/site-packages (from nbformat>=5.7->nbconvert->jupyter) (2.18.0)\n",
      "Requirement already satisfied: wcwidth in /Users/deepanjalikumar/Library/Python/3.11/lib/python/site-packages (from prompt-toolkit>=3.0.30->jupyter-console->jupyter) (0.2.6)\n",
      "Requirement already satisfied: soupsieve>1.2 in /Library/Frameworks/Python.framework/Versions/3.11/lib/python3.11/site-packages (from beautifulsoup4->nbconvert->jupyter) (2.4.1)\n",
      "Requirement already satisfied: idna>=2.8 in /Library/Frameworks/Python.framework/Versions/3.11/lib/python3.11/site-packages (from anyio>=3.1.0->jupyter-server<3,>=2.4.0->notebook->jupyter) (3.4)\n",
      "Requirement already satisfied: sniffio>=1.1 in /Library/Frameworks/Python.framework/Versions/3.11/lib/python3.11/site-packages (from anyio>=3.1.0->jupyter-server<3,>=2.4.0->notebook->jupyter) (1.3.0)\n",
      "Requirement already satisfied: parso<0.9.0,>=0.8.0 in /Users/deepanjalikumar/Library/Python/3.11/lib/python/site-packages (from jedi>=0.16->ipython>=7.23.1->ipykernel->jupyter) (0.8.3)\n",
      "Requirement already satisfied: attrs>=22.2.0 in /Library/Frameworks/Python.framework/Versions/3.11/lib/python3.11/site-packages (from jsonschema>=4.17.3->jupyterlab-server<3,>=2.22.1->notebook->jupyter) (23.1.0)\n",
      "Requirement already satisfied: jsonschema-specifications>=2023.03.6 in /Library/Frameworks/Python.framework/Versions/3.11/lib/python3.11/site-packages (from jsonschema>=4.17.3->jupyterlab-server<3,>=2.22.1->notebook->jupyter) (2023.7.1)\n",
      "Requirement already satisfied: referencing>=0.28.4 in /Library/Frameworks/Python.framework/Versions/3.11/lib/python3.11/site-packages (from jsonschema>=4.17.3->jupyterlab-server<3,>=2.22.1->notebook->jupyter) (0.30.2)\n",
      "Requirement already satisfied: rpds-py>=0.7.1 in /Library/Frameworks/Python.framework/Versions/3.11/lib/python3.11/site-packages (from jsonschema>=4.17.3->jupyterlab-server<3,>=2.22.1->notebook->jupyter) (0.9.2)\n",
      "Requirement already satisfied: python-json-logger>=2.0.4 in /Library/Frameworks/Python.framework/Versions/3.11/lib/python3.11/site-packages (from jupyter-events>=0.6.0->jupyter-server<3,>=2.4.0->notebook->jupyter) (2.0.7)\n",
      "Requirement already satisfied: pyyaml>=5.3 in /Library/Frameworks/Python.framework/Versions/3.11/lib/python3.11/site-packages (from jupyter-events>=0.6.0->jupyter-server<3,>=2.4.0->notebook->jupyter) (6.0.1)\n",
      "Requirement already satisfied: rfc3339-validator in /Library/Frameworks/Python.framework/Versions/3.11/lib/python3.11/site-packages (from jupyter-events>=0.6.0->jupyter-server<3,>=2.4.0->notebook->jupyter) (0.1.4)\n",
      "Requirement already satisfied: rfc3986-validator>=0.1.1 in /Library/Frameworks/Python.framework/Versions/3.11/lib/python3.11/site-packages (from jupyter-events>=0.6.0->jupyter-server<3,>=2.4.0->notebook->jupyter) (0.1.1)\n",
      "Requirement already satisfied: ptyprocess>=0.5 in /Users/deepanjalikumar/Library/Python/3.11/lib/python/site-packages (from pexpect>4.3->ipython>=7.23.1->ipykernel->jupyter) (0.7.0)\n",
      "Requirement already satisfied: charset-normalizer<4,>=2 in /Library/Frameworks/Python.framework/Versions/3.11/lib/python3.11/site-packages (from requests>=2.28->jupyterlab-server<3,>=2.22.1->notebook->jupyter) (3.2.0)\n",
      "Requirement already satisfied: urllib3<3,>=1.21.1 in /Library/Frameworks/Python.framework/Versions/3.11/lib/python3.11/site-packages (from requests>=2.28->jupyterlab-server<3,>=2.22.1->notebook->jupyter) (2.0.4)\n",
      "Requirement already satisfied: certifi>=2017.4.17 in /Library/Frameworks/Python.framework/Versions/3.11/lib/python3.11/site-packages (from requests>=2.28->jupyterlab-server<3,>=2.22.1->notebook->jupyter) (2023.7.22)\n",
      "Requirement already satisfied: argon2-cffi-bindings in /Library/Frameworks/Python.framework/Versions/3.11/lib/python3.11/site-packages (from argon2-cffi->jupyter-server<3,>=2.4.0->notebook->jupyter) (21.2.0)\n",
      "Requirement already satisfied: executing>=1.2.0 in /Users/deepanjalikumar/Library/Python/3.11/lib/python/site-packages (from stack-data->ipython>=7.23.1->ipykernel->jupyter) (1.2.0)\n",
      "Requirement already satisfied: asttokens>=2.1.0 in /Users/deepanjalikumar/Library/Python/3.11/lib/python/site-packages (from stack-data->ipython>=7.23.1->ipykernel->jupyter) (2.2.1)\n",
      "Requirement already satisfied: pure-eval in /Users/deepanjalikumar/Library/Python/3.11/lib/python/site-packages (from stack-data->ipython>=7.23.1->ipykernel->jupyter) (0.2.2)\n",
      "Requirement already satisfied: fqdn in /Library/Frameworks/Python.framework/Versions/3.11/lib/python3.11/site-packages (from jsonschema>=4.17.3->jupyterlab-server<3,>=2.22.1->notebook->jupyter) (1.5.1)\n",
      "Requirement already satisfied: isoduration in /Library/Frameworks/Python.framework/Versions/3.11/lib/python3.11/site-packages (from jsonschema>=4.17.3->jupyterlab-server<3,>=2.22.1->notebook->jupyter) (20.11.0)\n",
      "Requirement already satisfied: jsonpointer>1.13 in /Library/Frameworks/Python.framework/Versions/3.11/lib/python3.11/site-packages (from jsonschema>=4.17.3->jupyterlab-server<3,>=2.22.1->notebook->jupyter) (2.4)\n",
      "Requirement already satisfied: uri-template in /Library/Frameworks/Python.framework/Versions/3.11/lib/python3.11/site-packages (from jsonschema>=4.17.3->jupyterlab-server<3,>=2.22.1->notebook->jupyter) (1.3.0)\n",
      "Requirement already satisfied: webcolors>=1.11 in /Library/Frameworks/Python.framework/Versions/3.11/lib/python3.11/site-packages (from jsonschema>=4.17.3->jupyterlab-server<3,>=2.22.1->notebook->jupyter) (1.13)\n",
      "Requirement already satisfied: cffi>=1.0.1 in /Library/Frameworks/Python.framework/Versions/3.11/lib/python3.11/site-packages (from argon2-cffi-bindings->argon2-cffi->jupyter-server<3,>=2.4.0->notebook->jupyter) (1.15.1)\n",
      "Requirement already satisfied: pycparser in /Library/Frameworks/Python.framework/Versions/3.11/lib/python3.11/site-packages (from cffi>=1.0.1->argon2-cffi-bindings->argon2-cffi->jupyter-server<3,>=2.4.0->notebook->jupyter) (2.21)\n",
      "Requirement already satisfied: arrow>=0.15.0 in /Library/Frameworks/Python.framework/Versions/3.11/lib/python3.11/site-packages (from isoduration->jsonschema>=4.17.3->jupyterlab-server<3,>=2.22.1->notebook->jupyter) (1.2.3)\n",
      "\n",
      "\u001b[1m[\u001b[0m\u001b[34;49mnotice\u001b[0m\u001b[1;39;49m]\u001b[0m\u001b[39;49m A new release of pip available: \u001b[0m\u001b[31;49m22.3\u001b[0m\u001b[39;49m -> \u001b[0m\u001b[32;49m23.2.1\u001b[0m\n",
      "\u001b[1m[\u001b[0m\u001b[34;49mnotice\u001b[0m\u001b[1;39;49m]\u001b[0m\u001b[39;49m To update, run: \u001b[0m\u001b[32;49mpip3 install --upgrade pip\u001b[0m\n",
      "Requirement already satisfied: nbformat in /Library/Frameworks/Python.framework/Versions/3.11/lib/python3.11/site-packages (5.9.2)\n",
      "Requirement already satisfied: fastjsonschema in /Library/Frameworks/Python.framework/Versions/3.11/lib/python3.11/site-packages (from nbformat) (2.18.0)\n",
      "Requirement already satisfied: jsonschema>=2.6 in /Library/Frameworks/Python.framework/Versions/3.11/lib/python3.11/site-packages (from nbformat) (4.18.6)\n",
      "Requirement already satisfied: jupyter-core in /Users/deepanjalikumar/Library/Python/3.11/lib/python/site-packages (from nbformat) (5.3.0)\n",
      "Requirement already satisfied: traitlets>=5.1 in /Users/deepanjalikumar/Library/Python/3.11/lib/python/site-packages (from nbformat) (5.9.0)\n",
      "Requirement already satisfied: attrs>=22.2.0 in /Library/Frameworks/Python.framework/Versions/3.11/lib/python3.11/site-packages (from jsonschema>=2.6->nbformat) (23.1.0)\n",
      "Requirement already satisfied: jsonschema-specifications>=2023.03.6 in /Library/Frameworks/Python.framework/Versions/3.11/lib/python3.11/site-packages (from jsonschema>=2.6->nbformat) (2023.7.1)\n",
      "Requirement already satisfied: referencing>=0.28.4 in /Library/Frameworks/Python.framework/Versions/3.11/lib/python3.11/site-packages (from jsonschema>=2.6->nbformat) (0.30.2)\n",
      "Requirement already satisfied: rpds-py>=0.7.1 in /Library/Frameworks/Python.framework/Versions/3.11/lib/python3.11/site-packages (from jsonschema>=2.6->nbformat) (0.9.2)\n",
      "Requirement already satisfied: platformdirs>=2.5 in /Users/deepanjalikumar/Library/Python/3.11/lib/python/site-packages (from jupyter-core->nbformat) (3.5.1)\n",
      "\n",
      "\u001b[1m[\u001b[0m\u001b[34;49mnotice\u001b[0m\u001b[1;39;49m]\u001b[0m\u001b[39;49m A new release of pip available: \u001b[0m\u001b[31;49m22.3\u001b[0m\u001b[39;49m -> \u001b[0m\u001b[32;49m23.2.1\u001b[0m\n",
      "\u001b[1m[\u001b[0m\u001b[34;49mnotice\u001b[0m\u001b[1;39;49m]\u001b[0m\u001b[39;49m To update, run: \u001b[0m\u001b[32;49mpip3 install --upgrade pip\u001b[0m\n",
      "Requirement already satisfied: nbformat in /Library/Frameworks/Python.framework/Versions/3.11/lib/python3.11/site-packages (5.9.2)\n",
      "Requirement already satisfied: fastjsonschema in /Library/Frameworks/Python.framework/Versions/3.11/lib/python3.11/site-packages (from nbformat) (2.18.0)\n",
      "Requirement already satisfied: jsonschema>=2.6 in /Library/Frameworks/Python.framework/Versions/3.11/lib/python3.11/site-packages (from nbformat) (4.18.6)\n",
      "Requirement already satisfied: jupyter-core in /Users/deepanjalikumar/Library/Python/3.11/lib/python/site-packages (from nbformat) (5.3.0)\n",
      "Requirement already satisfied: traitlets>=5.1 in /Users/deepanjalikumar/Library/Python/3.11/lib/python/site-packages (from nbformat) (5.9.0)\n",
      "Requirement already satisfied: attrs>=22.2.0 in /Library/Frameworks/Python.framework/Versions/3.11/lib/python3.11/site-packages (from jsonschema>=2.6->nbformat) (23.1.0)\n",
      "Requirement already satisfied: jsonschema-specifications>=2023.03.6 in /Library/Frameworks/Python.framework/Versions/3.11/lib/python3.11/site-packages (from jsonschema>=2.6->nbformat) (2023.7.1)\n",
      "Requirement already satisfied: referencing>=0.28.4 in /Library/Frameworks/Python.framework/Versions/3.11/lib/python3.11/site-packages (from jsonschema>=2.6->nbformat) (0.30.2)\n",
      "Requirement already satisfied: rpds-py>=0.7.1 in /Library/Frameworks/Python.framework/Versions/3.11/lib/python3.11/site-packages (from jsonschema>=2.6->nbformat) (0.9.2)\n",
      "Requirement already satisfied: platformdirs>=2.5 in /Users/deepanjalikumar/Library/Python/3.11/lib/python/site-packages (from jupyter-core->nbformat) (3.5.1)\n",
      "\n",
      "\u001b[1m[\u001b[0m\u001b[34;49mnotice\u001b[0m\u001b[1;39;49m]\u001b[0m\u001b[39;49m A new release of pip available: \u001b[0m\u001b[31;49m22.3\u001b[0m\u001b[39;49m -> \u001b[0m\u001b[32;49m23.2.1\u001b[0m\n",
      "\u001b[1m[\u001b[0m\u001b[34;49mnotice\u001b[0m\u001b[1;39;49m]\u001b[0m\u001b[39;49m To update, run: \u001b[0m\u001b[32;49mpip3 install --upgrade pip\u001b[0m\n",
      "Requirement already satisfied: plotly in /Library/Frameworks/Python.framework/Versions/3.11/lib/python3.11/site-packages (5.15.0)\n",
      "Requirement already satisfied: tenacity>=6.2.0 in /Library/Frameworks/Python.framework/Versions/3.11/lib/python3.11/site-packages (from plotly) (8.2.2)\n",
      "Requirement already satisfied: packaging in /Users/deepanjalikumar/Library/Python/3.11/lib/python/site-packages (from plotly) (23.1)\n",
      "\n",
      "\u001b[1m[\u001b[0m\u001b[34;49mnotice\u001b[0m\u001b[1;39;49m]\u001b[0m\u001b[39;49m A new release of pip available: \u001b[0m\u001b[31;49m22.3\u001b[0m\u001b[39;49m -> \u001b[0m\u001b[32;49m23.2.1\u001b[0m\n",
      "\u001b[1m[\u001b[0m\u001b[34;49mnotice\u001b[0m\u001b[1;39;49m]\u001b[0m\u001b[39;49m To update, run: \u001b[0m\u001b[32;49mpip3 install --upgrade pip\u001b[0m\n",
      "Requirement already satisfied: pandas in /Library/Frameworks/Python.framework/Versions/3.11/lib/python3.11/site-packages (2.0.1)\n",
      "Requirement already satisfied: python-dateutil>=2.8.2 in /Users/deepanjalikumar/Library/Python/3.11/lib/python/site-packages (from pandas) (2.8.2)\n",
      "Requirement already satisfied: pytz>=2020.1 in /Library/Frameworks/Python.framework/Versions/3.11/lib/python3.11/site-packages (from pandas) (2023.3)\n",
      "Requirement already satisfied: tzdata>=2022.1 in /Library/Frameworks/Python.framework/Versions/3.11/lib/python3.11/site-packages (from pandas) (2023.3)\n",
      "Requirement already satisfied: numpy>=1.21.0 in /Library/Frameworks/Python.framework/Versions/3.11/lib/python3.11/site-packages (from pandas) (1.24.3)\n",
      "Requirement already satisfied: six>=1.5 in /Users/deepanjalikumar/Library/Python/3.11/lib/python/site-packages (from python-dateutil>=2.8.2->pandas) (1.16.0)\n",
      "\n",
      "\u001b[1m[\u001b[0m\u001b[34;49mnotice\u001b[0m\u001b[1;39;49m]\u001b[0m\u001b[39;49m A new release of pip available: \u001b[0m\u001b[31;49m22.3\u001b[0m\u001b[39;49m -> \u001b[0m\u001b[32;49m23.2.1\u001b[0m\n",
      "\u001b[1m[\u001b[0m\u001b[34;49mnotice\u001b[0m\u001b[1;39;49m]\u001b[0m\u001b[39;49m To update, run: \u001b[0m\u001b[32;49mpip3 install --upgrade pip\u001b[0m\n",
      "Requirement already satisfied: numpy in /Library/Frameworks/Python.framework/Versions/3.11/lib/python3.11/site-packages (1.24.3)\n",
      "\n",
      "\u001b[1m[\u001b[0m\u001b[34;49mnotice\u001b[0m\u001b[1;39;49m]\u001b[0m\u001b[39;49m A new release of pip available: \u001b[0m\u001b[31;49m22.3\u001b[0m\u001b[39;49m -> \u001b[0m\u001b[32;49m23.2.1\u001b[0m\n",
      "\u001b[1m[\u001b[0m\u001b[34;49mnotice\u001b[0m\u001b[1;39;49m]\u001b[0m\u001b[39;49m To update, run: \u001b[0m\u001b[32;49mpip3 install --upgrade pip\u001b[0m\n",
      "Requirement already satisfied: pydotplus in /Library/Frameworks/Python.framework/Versions/3.11/lib/python3.11/site-packages (2.0.2)\n",
      "Requirement already satisfied: pyparsing>=2.0.1 in /Library/Frameworks/Python.framework/Versions/3.11/lib/python3.11/site-packages (from pydotplus) (3.0.9)\n",
      "\n",
      "\u001b[1m[\u001b[0m\u001b[34;49mnotice\u001b[0m\u001b[1;39;49m]\u001b[0m\u001b[39;49m A new release of pip available: \u001b[0m\u001b[31;49m22.3\u001b[0m\u001b[39;49m -> \u001b[0m\u001b[32;49m23.2.1\u001b[0m\n",
      "\u001b[1m[\u001b[0m\u001b[34;49mnotice\u001b[0m\u001b[1;39;49m]\u001b[0m\u001b[39;49m To update, run: \u001b[0m\u001b[32;49mpip3 install --upgrade pip\u001b[0m\n",
      "Requirement already satisfied: scikit-learn in /Library/Frameworks/Python.framework/Versions/3.11/lib/python3.11/site-packages (1.2.2)\n",
      "Requirement already satisfied: numpy>=1.17.3 in /Library/Frameworks/Python.framework/Versions/3.11/lib/python3.11/site-packages (from scikit-learn) (1.24.3)\n",
      "Requirement already satisfied: scipy>=1.3.2 in /Library/Frameworks/Python.framework/Versions/3.11/lib/python3.11/site-packages (from scikit-learn) (1.10.1)\n",
      "Requirement already satisfied: joblib>=1.1.1 in /Library/Frameworks/Python.framework/Versions/3.11/lib/python3.11/site-packages (from scikit-learn) (1.2.0)\n",
      "Requirement already satisfied: threadpoolctl>=2.0.0 in /Library/Frameworks/Python.framework/Versions/3.11/lib/python3.11/site-packages (from scikit-learn) (3.1.0)\n",
      "\n",
      "\u001b[1m[\u001b[0m\u001b[34;49mnotice\u001b[0m\u001b[1;39;49m]\u001b[0m\u001b[39;49m A new release of pip available: \u001b[0m\u001b[31;49m22.3\u001b[0m\u001b[39;49m -> \u001b[0m\u001b[32;49m23.2.1\u001b[0m\n",
      "\u001b[1m[\u001b[0m\u001b[34;49mnotice\u001b[0m\u001b[1;39;49m]\u001b[0m\u001b[39;49m To update, run: \u001b[0m\u001b[32;49mpip3 install --upgrade pip\u001b[0m\n",
      "Requirement already satisfied: seaborn in /Library/Frameworks/Python.framework/Versions/3.11/lib/python3.11/site-packages (0.12.2)\n",
      "Requirement already satisfied: numpy!=1.24.0,>=1.17 in /Library/Frameworks/Python.framework/Versions/3.11/lib/python3.11/site-packages (from seaborn) (1.24.3)\n",
      "Requirement already satisfied: pandas>=0.25 in /Library/Frameworks/Python.framework/Versions/3.11/lib/python3.11/site-packages (from seaborn) (2.0.1)\n",
      "Requirement already satisfied: matplotlib!=3.6.1,>=3.1 in /Library/Frameworks/Python.framework/Versions/3.11/lib/python3.11/site-packages (from seaborn) (3.7.1)\n",
      "Requirement already satisfied: contourpy>=1.0.1 in /Library/Frameworks/Python.framework/Versions/3.11/lib/python3.11/site-packages (from matplotlib!=3.6.1,>=3.1->seaborn) (1.0.7)\n",
      "Requirement already satisfied: cycler>=0.10 in /Library/Frameworks/Python.framework/Versions/3.11/lib/python3.11/site-packages (from matplotlib!=3.6.1,>=3.1->seaborn) (0.11.0)\n",
      "Requirement already satisfied: fonttools>=4.22.0 in /Library/Frameworks/Python.framework/Versions/3.11/lib/python3.11/site-packages (from matplotlib!=3.6.1,>=3.1->seaborn) (4.39.4)\n",
      "Requirement already satisfied: kiwisolver>=1.0.1 in /Library/Frameworks/Python.framework/Versions/3.11/lib/python3.11/site-packages (from matplotlib!=3.6.1,>=3.1->seaborn) (1.4.4)\n",
      "Requirement already satisfied: packaging>=20.0 in /Users/deepanjalikumar/Library/Python/3.11/lib/python/site-packages (from matplotlib!=3.6.1,>=3.1->seaborn) (23.1)\n",
      "Requirement already satisfied: pillow>=6.2.0 in /Library/Frameworks/Python.framework/Versions/3.11/lib/python3.11/site-packages (from matplotlib!=3.6.1,>=3.1->seaborn) (9.5.0)\n",
      "Requirement already satisfied: pyparsing>=2.3.1 in /Library/Frameworks/Python.framework/Versions/3.11/lib/python3.11/site-packages (from matplotlib!=3.6.1,>=3.1->seaborn) (3.0.9)\n",
      "Requirement already satisfied: python-dateutil>=2.7 in /Users/deepanjalikumar/Library/Python/3.11/lib/python/site-packages (from matplotlib!=3.6.1,>=3.1->seaborn) (2.8.2)\n",
      "Requirement already satisfied: pytz>=2020.1 in /Library/Frameworks/Python.framework/Versions/3.11/lib/python3.11/site-packages (from pandas>=0.25->seaborn) (2023.3)\n",
      "Requirement already satisfied: tzdata>=2022.1 in /Library/Frameworks/Python.framework/Versions/3.11/lib/python3.11/site-packages (from pandas>=0.25->seaborn) (2023.3)\n",
      "Requirement already satisfied: six>=1.5 in /Users/deepanjalikumar/Library/Python/3.11/lib/python/site-packages (from python-dateutil>=2.7->matplotlib!=3.6.1,>=3.1->seaborn) (1.16.0)\n",
      "\n",
      "\u001b[1m[\u001b[0m\u001b[34;49mnotice\u001b[0m\u001b[1;39;49m]\u001b[0m\u001b[39;49m A new release of pip available: \u001b[0m\u001b[31;49m22.3\u001b[0m\u001b[39;49m -> \u001b[0m\u001b[32;49m23.2.1\u001b[0m\n",
      "\u001b[1m[\u001b[0m\u001b[34;49mnotice\u001b[0m\u001b[1;39;49m]\u001b[0m\u001b[39;49m To update, run: \u001b[0m\u001b[32;49mpip3 install --upgrade pip\u001b[0m\n",
      "<class 'pandas.core.frame.DataFrame'>\n",
      "RangeIndex: 8068 entries, 0 to 8067\n",
      "Data columns (total 11 columns):\n",
      " #   Column           Non-Null Count  Dtype  \n",
      "---  ------           --------------  -----  \n",
      " 0   ID               8068 non-null   int64  \n",
      " 1   Gender           8068 non-null   object \n",
      " 2   Ever_Married     7928 non-null   object \n",
      " 3   Age              8068 non-null   int64  \n",
      " 4   Graduated        7990 non-null   object \n",
      " 5   Profession       7944 non-null   object \n",
      " 6   Work_Experience  7239 non-null   float64\n",
      " 7   Spending_Score   8068 non-null   object \n",
      " 8   Family_Size      7733 non-null   float64\n",
      " 9   Var_1            7992 non-null   object \n",
      " 10  Segmentation     8068 non-null   object \n",
      "dtypes: float64(2), int64(2), object(7)\n",
      "memory usage: 693.5+ KB\n"
     ]
    },
    {
     "data": {
      "image/png": "[encoded data removed]",
      "text/plain": [
       "<Figure size 640x480 with 1 Axes>"
      ]
     },
     "metadata": {},
     "output_type": "display_data"
    },
    {
     "data": {
      "image/png": "[encoded data removed]",
      "text/plain": [
       "<Figure size 1000x600 with 1 Axes>"
      ]
     },
     "metadata": {},
     "output_type": "display_data"
    },
    {
     "data": {
      "image/png": "[encoded data removed]",
      "text/plain": [
       "<Figure size 1200x600 with 1 Axes>"
      ]
     },
     "metadata": {},
     "output_type": "display_data"
    },
    {
     "data": {
      "image/png": "[encoded data removed]",
      "text/plain": [
       "<Figure size 1200x600 with 1 Axes>"
      ]
     },
     "metadata": {},
     "output_type": "display_data"
    },
    {
     "data": {
      "image/png": "[encoded data removed]",
      "text/plain": [
       "<Figure size 1000x600 with 1 Axes>"
      ]
     },
     "metadata": {},
     "output_type": "display_data"
    },
    {
     "data": {
      "application/vnd.plotly.v1+json": {
       "config": {
        "plotlyServerURL": "https://plot.ly"
       },
       "data": [
        {
         "domain": {
          "x": [
           0,
           1
          ],
          "y": [
           0,
           1
          ]
         },
         "hovertemplate": "Segmentation=%{label}<br>value=%{value}<extra></extra>",
         "labels": [
          "D",
          "C",
          "A",
          "B"
         ],
         "legendgroup": "",
         "name": "",
         "showlegend": true,
         "type": "pie",
         "values": [
          26.3615903975994,
          25.806451612903224,
          24.246061515378845,
          23.585896474118528
         ]
        }
       ],
       "layout": {
        "legend": {
         "tracegroupgap": 0
        },
        "template": {
         "data": {
          "bar": [
           {
            "error_x": {
             "color": "#2a3f5f"
            },
            "error_y": {
             "color": "#2a3f5f"
            },
            "marker": {
             "line": {
              "color": "#E5ECF6",
              "width": 0.5
             },
             "pattern": {
              "fillmode": "overlay",
              "size": 10,
              "solidity": 0.2
             }
            },
            "type": "bar"
           }
          ],
          "barpolar": [
           {
            "marker": {
             "line": {
              "color": "#E5ECF6",
              "width": 0.5
             },
             "pattern": {
              "fillmode": "overlay",
              "size": 10,
              "solidity": 0.2
             }
            },
            "type": "barpolar"
           }
          ],
          "carpet": [
           {
            "aaxis": {
             "endlinecolor": "#2a3f5f",
             "gridcolor": "white",
             "linecolor": "white",
             "minorgridcolor": "white",
             "startlinecolor": "#2a3f5f"
            },
            "baxis": {
             "endlinecolor": "#2a3f5f",
             "gridcolor": "white",
             "linecolor": "white",
             "minorgridcolor": "white",
             "startlinecolor": "#2a3f5f"
            },
            "type": "carpet"
           }
          ],
          "choropleth": [
           {
            "colorbar": {
             "outlinewidth": 0,
             "ticks": ""
            },
            "type": "choropleth"
           }
          ],
          "contour": [
           {
            "colorbar": {
             "outlinewidth": 0,
             "ticks": ""
            },
            "colorscale": [
             [
              0,
              "#0d0887"
             ],
             [
              0.1111111111111111,
              "#46039f"
             ],
             [
              0.2222222222222222,
              "#7201a8"
             ],
             [
              0.3333333333333333,
              "#9c179e"
             ],
             [
              0.4444444444444444,
              "#bd3786"
             ],
             [
              0.5555555555555556,
              "#d8576b"
             ],
             [
              0.6666666666666666,
              "#ed7953"
             ],
             [
              0.7777777777777778,
              "#fb9f3a"
             ],
             [
              0.8888888888888888,
              "#fdca26"
             ],
             [
              1,
              "#f0f921"
             ]
            ],
            "type": "contour"
           }
          ],
          "contourcarpet": [
           {
            "colorbar": {
             "outlinewidth": 0,
             "ticks": ""
            },
            "type": "contourcarpet"
           }
          ],
          "heatmap": [
           {
            "colorbar": {
             "outlinewidth": 0,
             "ticks": ""
            },
            "colorscale": [
             [
              0,
              "#0d0887"
             ],
             [
              0.1111111111111111,
              "#46039f"
             ],
             [
              0.2222222222222222,
              "#7201a8"
             ],
             [
              0.3333333333333333,
              "#9c179e"
             ],
             [
              0.4444444444444444,
              "#bd3786"
             ],
             [
              0.5555555555555556,
              "#d8576b"
             ],
             [
              0.6666666666666666,
              "#ed7953"
             ],
             [
              0.7777777777777778,
              "#fb9f3a"
             ],
             [
              0.8888888888888888,
              "#fdca26"
             ],
             [
              1,
              "#f0f921"
             ]
            ],
            "type": "heatmap"
           }
          ],
          "heatmapgl": [
           {
            "colorbar": {
             "outlinewidth": 0,
             "ticks": ""
            },
            "colorscale": [
             [
              0,
              "#0d0887"
             ],
             [
              0.1111111111111111,
              "#46039f"
             ],
             [
              0.2222222222222222,
              "#7201a8"
             ],
             [
              0.3333333333333333,
              "#9c179e"
             ],
             [
              0.4444444444444444,
              "#bd3786"
             ],
             [
              0.5555555555555556,
              "#d8576b"
             ],
             [
              0.6666666666666666,
              "#ed7953"
             ],
             [
              0.7777777777777778,
              "#fb9f3a"
             ],
             [
              0.8888888888888888,
              "#fdca26"
             ],
             [
              1,
              "#f0f921"
             ]
            ],
            "type": "heatmapgl"
           }
          ],
          "histogram": [
           {
            "marker": {
             "pattern": {
              "fillmode": "overlay",
              "size": 10,
              "solidity": 0.2
             }
            },
            "type": "histogram"
           }
          ],
          "histogram2d": [
           {
            "colorbar": {
             "outlinewidth": 0,
             "ticks": ""
            },
            "colorscale": [
             [
              0,
              "#0d0887"
             ],
             [
              0.1111111111111111,
              "#46039f"
             ],
             [
              0.2222222222222222,
              "#7201a8"
             ],
             [
              0.3333333333333333,
              "#9c179e"
             ],
             [
              0.4444444444444444,
              "#bd3786"
             ],
             [
              0.5555555555555556,
              "#d8576b"
             ],
             [
              0.6666666666666666,
              "#ed7953"
             ],
             [
              0.7777777777777778,
              "#fb9f3a"
             ],
             [
              0.8888888888888888,
              "#fdca26"
             ],
             [
              1,
              "#f0f921"
             ]
            ],
            "type": "histogram2d"
           }
          ],
          "histogram2dcontour": [
           {
            "colorbar": {
             "outlinewidth": 0,
             "ticks": ""
            },
            "colorscale": [
             [
              0,
              "#0d0887"
             ],
             [
              0.1111111111111111,
              "#46039f"
             ],
             [
              0.2222222222222222,
              "#7201a8"
             ],
             [
              0.3333333333333333,
              "#9c179e"
             ],
             [
              0.4444444444444444,
              "#bd3786"
             ],
             [
              0.5555555555555556,
              "#d8576b"
             ],
             [
              0.6666666666666666,
              "#ed7953"
             ],
             [
              0.7777777777777778,
              "#fb9f3a"
             ],
             [
              0.8888888888888888,
              "#fdca26"
             ],
             [
              1,
              "#f0f921"
             ]
            ],
            "type": "histogram2dcontour"
           }
          ],
          "mesh3d": [
           {
            "colorbar": {
             "outlinewidth": 0,
             "ticks": ""
            },
            "type": "mesh3d"
           }
          ],
          "parcoords": [
           {
            "line": {
             "colorbar": {
              "outlinewidth": 0,
              "ticks": ""
             }
            },
            "type": "parcoords"
           }
          ],
          "pie": [
           {
            "automargin": true,
            "type": "pie"
           }
          ],
          "scatter": [
           {
            "fillpattern": {
             "fillmode": "overlay",
             "size": 10,
             "solidity": 0.2
            },
            "type": "scatter"
           }
          ],
          "scatter3d": [
           {
            "line": {
             "colorbar": {
              "outlinewidth": 0,
              "ticks": ""
             }
            },
            "marker": {
             "colorbar": {
              "outlinewidth": 0,
              "ticks": ""
             }
            },
            "type": "scatter3d"
           }
          ],
          "scattercarpet": [
           {
            "marker": {
             "colorbar": {
              "outlinewidth": 0,
              "ticks": ""
             }
            },
            "type": "scattercarpet"
           }
          ],
          "scattergeo": [
           {
            "marker": {
             "colorbar": {
              "outlinewidth": 0,
              "ticks": ""
             }
            },
            "type": "scattergeo"
           }
          ],
          "scattergl": [
           {
            "marker": {
             "colorbar": {
              "outlinewidth": 0,
              "ticks": ""
             }
            },
            "type": "scattergl"
           }
          ],
          "scattermapbox": [
           {
            "marker": {
             "colorbar": {
              "outlinewidth": 0,
              "ticks": ""
             }
            },
            "type": "scattermapbox"
           }
          ],
          "scatterpolar": [
           {
            "marker": {
             "colorbar": {
              "outlinewidth": 0,
              "ticks": ""
             }
            },
            "type": "scatterpolar"
           }
          ],
          "scatterpolargl": [
           {
            "marker": {
             "colorbar": {
              "outlinewidth": 0,
              "ticks": ""
             }
            },
            "type": "scatterpolargl"
           }
          ],
          "scatterternary": [
           {
            "marker": {
             "colorbar": {
              "outlinewidth": 0,
              "ticks": ""
             }
            },
            "type": "scatterternary"
           }
          ],
          "surface": [
           {
            "colorbar": {
             "outlinewidth": 0,
             "ticks": ""
            },
            "colorscale": [
             [
              0,
              "#0d0887"
             ],
             [
              0.1111111111111111,
              "#46039f"
             ],
             [
              0.2222222222222222,
              "#7201a8"
             ],
             [
              0.3333333333333333,
              "#9c179e"
             ],
             [
              0.4444444444444444,
              "#bd3786"
             ],
             [
              0.5555555555555556,
              "#d8576b"
             ],
             [
              0.6666666666666666,
              "#ed7953"
             ],
             [
              0.7777777777777778,
              "#fb9f3a"
             ],
             [
              0.8888888888888888,
              "#fdca26"
             ],
             [
              1,
              "#f0f921"
             ]
            ],
            "type": "surface"
           }
          ],
          "table": [
           {
            "cells": {
             "fill": {
              "color": "#EBF0F8"
             },
             "line": {
              "color": "white"
             }
            },
            "header": {
             "fill": {
              "color": "#C8D4E3"
             },
             "line": {
              "color": "white"
             }
            },
            "type": "table"
           }
          ]
         },
         "layout": {
          "annotationdefaults": {
           "arrowcolor": "#2a3f5f",
           "arrowhead": 0,
           "arrowwidth": 1
          },
          "autotypenumbers": "strict",
          "coloraxis": {
           "colorbar": {
            "outlinewidth": 0,
            "ticks": ""
           }
          },
          "colorscale": {
           "diverging": [
            [
             0,
             "#8e0152"
            ],
            [
             0.1,
             "#c51b7d"
            ],
            [
             0.2,
             "#de77ae"
            ],
            [
             0.3,
             "#f1b6da"
            ],
            [
             0.4,
             "#fde0ef"
            ],
            [
             0.5,
             "#f7f7f7"
            ],
            [
             0.6,
             "#e6f5d0"
            ],
            [
             0.7,
             "#b8e186"
            ],
            [
             0.8,
             "#7fbc41"
            ],
            [
             0.9,
             "#4d9221"
            ],
            [
             1,
             "#276419"
            ]
           ],
           "sequential": [
            [
             0,
             "#0d0887"
            ],
            [
             0.1111111111111111,
             "#46039f"
            ],
            [
             0.2222222222222222,
             "#7201a8"
            ],
            [
             0.3333333333333333,
             "#9c179e"
            ],
            [
             0.4444444444444444,
             "#bd3786"
            ],
            [
             0.5555555555555556,
             "#d8576b"
            ],
            [
             0.6666666666666666,
             "#ed7953"
            ],
            [
             0.7777777777777778,
             "#fb9f3a"
            ],
            [
             0.8888888888888888,
             "#fdca26"
            ],
            [
             1,
             "#f0f921"
            ]
           ],
           "sequentialminus": [
            [
             0,
             "#0d0887"
            ],
            [
             0.1111111111111111,
             "#46039f"
            ],
            [
             0.2222222222222222,
             "#7201a8"
            ],
            [
             0.3333333333333333,
             "#9c179e"
            ],
            [
             0.4444444444444444,
             "#bd3786"
            ],
            [
             0.5555555555555556,
             "#d8576b"
            ],
            [
             0.6666666666666666,
             "#ed7953"
            ],
            [
             0.7777777777777778,
             "#fb9f3a"
            ],
            [
             0.8888888888888888,
             "#fdca26"
            ],
            [
             1,
             "#f0f921"
            ]
           ]
          },
          "colorway": [
           "#636efa",
           "#EF553B",
           "#00cc96",
           "#ab63fa",
           "#FFA15A",
           "#19d3f3",
           "#FF6692",
           "#B6E880",
           "#FF97FF",
           "#FECB52"
          ],
          "font": {
           "color": "#2a3f5f"
          },
          "geo": {
           "bgcolor": "white",
           "lakecolor": "white",
           "landcolor": "#E5ECF6",
           "showlakes": true,
           "showland": true,
           "subunitcolor": "white"
          },
          "hoverlabel": {
           "align": "left"
          },
          "hovermode": "closest",
          "mapbox": {
           "style": "light"
          },
          "paper_bgcolor": "white",
          "plot_bgcolor": "#E5ECF6",
          "polar": {
           "angularaxis": {
            "gridcolor": "white",
            "linecolor": "white",
            "ticks": ""
           },
           "bgcolor": "#E5ECF6",
           "radialaxis": {
            "gridcolor": "white",
            "linecolor": "white",
            "ticks": ""
           }
          },
          "scene": {
           "xaxis": {
            "backgroundcolor": "#E5ECF6",
            "gridcolor": "white",
            "gridwidth": 2,
            "linecolor": "white",
            "showbackground": true,
            "ticks": "",
            "zerolinecolor": "white"
           },
           "yaxis": {
            "backgroundcolor": "#E5ECF6",
            "gridcolor": "white",
            "gridwidth": 2,
            "linecolor": "white",
            "showbackground": true,
            "ticks": "",
            "zerolinecolor": "white"
           },
           "zaxis": {
            "backgroundcolor": "#E5ECF6",
            "gridcolor": "white",
            "gridwidth": 2,
            "linecolor": "white",
            "showbackground": true,
            "ticks": "",
            "zerolinecolor": "white"
           }
          },
          "shapedefaults": {
           "line": {
            "color": "#2a3f5f"
           }
          },
          "ternary": {
           "aaxis": {
            "gridcolor": "white",
            "linecolor": "white",
            "ticks": ""
           },
           "baxis": {
            "gridcolor": "white",
            "linecolor": "white",
            "ticks": ""
           },
           "bgcolor": "#E5ECF6",
           "caxis": {
            "gridcolor": "white",
            "linecolor": "white",
            "ticks": ""
           }
          },
          "title": {
           "x": 0.05
          },
          "xaxis": {
           "automargin": true,
           "gridcolor": "white",
           "linecolor": "white",
           "ticks": "",
           "title": {
            "standoff": 15
           },
           "zerolinecolor": "white",
           "zerolinewidth": 2
          },
          "yaxis": {
           "automargin": true,
           "gridcolor": "white",
           "linecolor": "white",
           "ticks": "",
           "title": {
            "standoff": 15
           },
           "zerolinecolor": "white",
           "zerolinewidth": 2
          }
         }
        },
        "title": {
         "text": "Percentage Distribution of Segmentation"
        }
       }
      }
     },
     "metadata": {},
     "output_type": "display_data"
    },
    {
     "data": {
      "text/plain": [
       "<Axes: xlabel='Segmentation', ylabel='count'>"
      ]
     },
     "execution_count": 10,
     "metadata": {},
     "output_type": "execute_result"
    },
    {
     "data": {
      "image/png": "[encoded data removed]",
      "text/plain": [
       "<Figure size 640x480 with 1 Axes>"
      ]
     },
     "metadata": {},
     "output_type": "display_data"
    }
   ],
   "source": [
    "!pip3 install --upgrade azureml-sdk\n",
    "!pip3 install openpyxl\n",
    "!pip3 installl ipython\n",
    "!pip3 install ipykernel\n",
    "!pip3 install jupyter\n",
    "!pip3 install  --upgrade nbformat\n",
    "!pip3 install nbformat\n",
    "\n",
    "!pip3 install plotly\n",
    "import plotly.express as px\n",
    "\n",
    "\n",
    "!pip3 install pandas\n",
    "import pandas as pd\n",
    "\n",
    "!pip3 install numpy\n",
    "import numpy as np\n",
    "import pip\n",
    "\n",
    "!pip3 install pydotplus\n",
    "import pydotplus\n",
    "from sklearn import preprocessing\n",
    "\n",
    "!pip3 install scikit-learn\n",
    "import sklearn.tree\n",
    "from sklearn.tree import DecisionTreeClassifier\n",
    "from sklearn.model_selection import train_test_split\n",
    "from sklearn.metrics import accuracy_score\n",
    "\n",
    "from sklearn.preprocessing import LabelEncoder\n",
    "from sklearn.model_selection import train_test_split\n",
    "from sklearn.metrics import mean_squared_error\n",
    "from sklearn.linear_model import LogisticRegression\n",
    "from sklearn.preprocessing import LabelEncoder\n",
    "\n",
    "import matplotlib.pyplot as plt\n",
    "\n",
    "\n",
    "!pip3 install seaborn\n",
    "import seaborn as sns\n",
    "\n",
    "\n",
    "import pydotplus\n",
    "from IPython.display import Image \n",
    "\n",
    "\n",
    "import pandas as pd \n",
    "market_segmentation = pd.read_csv('market_segmentation.csv')\n",
    "market_segmentation.head()\n",
    "market_segmentation.info()\n",
    "market_segmentation.describe()\n",
    "\n",
    "market_segmentation.dropna(inplace=True)\n",
    "\n",
    "\n",
    "# Calculate the percentages for each gender\n",
    "gender_counts = market_segmentation['Gender'].value_counts()\n",
    "total_count = gender_counts.sum()\n",
    "male_percentage = (gender_counts['Male'] / total_count) * 100\n",
    "female_percentage = (gender_counts['Female'] / total_count) * 100\n",
    "\n",
    "# Create a pie chart\n",
    "labels = ['Male', 'Female']\n",
    "sizes = [male_percentage, female_percentage]\n",
    "colors = ['#1f77b4', '#ff7f0e']\n",
    "\n",
    "plt.pie(sizes, labels=labels, colors=colors, autopct='%1.1f%%', startangle=90)\n",
    "\n",
    "# Set aspect ratio to be equal so that the pie is drawn as a circle\n",
    "plt.axis('equal')\n",
    "\n",
    "# Set the plot title\n",
    "plt.title('Male vs Female Percentage Comparison')\n",
    "\n",
    "# Display the chart\n",
    "plt.show()\n",
    "\n",
    "# Select 'Age' and 'Work_experience' columns\n",
    "age_work_data = market_segmentation[['Age', 'Work_Experience']]\n",
    "\n",
    "# Create a scatter plot using seaborn\n",
    "plt.figure(figsize=(10, 6))\n",
    "sns.scatterplot(x='Age', y='Work_Experience', data=age_work_data)\n",
    "plt.title('Age vs Work Experience')\n",
    "plt.xlabel('Age')\n",
    "plt.ylabel('Work Experience')\n",
    "plt.grid(True)\n",
    "plt.show()\n",
    "\n",
    "# Select 'Graduated' and 'Profession' columns\n",
    "graduated_profession_data = market_segmentation[['Graduated', 'Profession']]\n",
    "\n",
    "# Create a count plot using seaborn\n",
    "plt.figure(figsize=(12, 6))\n",
    "sns.countplot(x='Graduated', hue='Profession', data=graduated_profession_data)\n",
    "plt.title('Graduated vs Profession')\n",
    "plt.xlabel('Graduated')\n",
    "plt.ylabel('Count')\n",
    "plt.grid(True)\n",
    "plt.show()\n",
    "\n",
    "# Select 'Work_experience' and 'Profession' columns\n",
    "work_experience_profession_data = market_segmentation[['Work_Experience', 'Profession']]\n",
    "\n",
    "# Create a count plot using seaborn\n",
    "plt.figure(figsize=(12, 6))\n",
    "sns.countplot(x='Work_Experience', hue='Profession', data=work_experience_profession_data)\n",
    "plt.title('Work Experience vs Profession')\n",
    "plt.xlabel('Work Experience')\n",
    "plt.ylabel('Count')\n",
    "plt.grid(True)\n",
    "plt.show()\n",
    "\n",
    "# Calculate percentage distribution\n",
    "percentage_dist = (market_segmentation['Segmentation'].value_counts() / len(market_segmentation)) * 100\n",
    "\n",
    "# Create a bar plot using Seaborn\n",
    "plt.figure(figsize=(10, 6))\n",
    "sns.barplot(x=percentage_dist.index, y=percentage_dist.values)\n",
    "plt.title('Percentage Distribution of Segmentation')\n",
    "plt.xlabel('Segmentation')\n",
    "plt.ylabel('Percentage')\n",
    "plt.xticks(rotation=45)\n",
    "plt.tight_layout()\n",
    "plt.show()\n",
    "\n",
    "\n",
    "# Create a pie chart using Plotly Express\n",
    "fig = px.pie(percentage_dist, values=percentage_dist.values, names=percentage_dist.index,\n",
    "             title='Percentage Distribution of Segmentation')\n",
    "fig.show()\n",
    "\n",
    "sns.countplot(market_segmentation,x='Segmentation',hue='Gender')\n",
    "\n",
    "# Part 2 - Training and Evaluation\n",
    "\n",
    "\n",
    "# Convert categorical variables to numerical variables\n",
    "for column in market_segmentation.columns:\n",
    "    if market_segmentation[column].dtype == 'object':\n",
    "        encoder = LabelEncoder()\n",
    "        market_segmentation[column] = encoder.fit_transform(market_segmentation[column])\n",
    "\n",
    "# Split the data into training and test sets\n",
    "X_train, X_test, y_train, y_test = train_test_split(market_segmentation.drop('Segmentation', axis=1), market_segmentation['Segmentation'], test_size=0.2)\n",
    "\n",
    "# Train the logistic regression model\n",
    "model = LogisticRegression()\n",
    "model.fit(X_train, y_train)\n",
    "\n",
    "# Evaluate the model on the test data\n",
    "accuracy = model.score(X_test, y_test)\n",
    "print('Accuracy:', accuracy)\n",
    "\n",
    "# Create a correlation matrix\n",
    "correlation_matrix = market_segmentation.corr()\n",
    "\n",
    "# Print the correlation matrix\n",
    "print(correlation_matrix)\n",
    "\n",
    "# Display the correlation matrix\n",
    "plt.figure(figsize=(10, 10))\n",
    "sns.heatmap(correlation_matrix, annot=True)\n",
    "plt.show()\n",
    "\n"
   ]
  }
 ],
 "metadata": {
  "kernelspec": {
   "display_name": "Python 3",
   "language": "python",
   "name": "python3"
  },
  "language_info": {
   "codemirror_mode": {
    "name": "ipython",
    "version": 3
   },
   "file_extension": ".py",
   "mimetype": "text/x-python",
   "name": "python",
   "nbconvert_exporter": "python",
   "pygments_lexer": "ipython3",
   "version": "3.11.0"
  },
  "orig_nbformat": 4
 },
 "nbformat": 4,
 "nbformat_minor": 2
}
